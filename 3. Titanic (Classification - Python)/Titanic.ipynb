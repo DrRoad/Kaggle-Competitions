{
 "cells": [
  {
   "cell_type": "markdown",
   "metadata": {},
   "source": [
    "# Titanic: Machine Learning from Disaster - Simplified version\n",
    "\n",
    "## Getting Started Prediction Competition\n",
    "\n",
    "### Competition Description\n",
    "\n",
    "The sinking of the RMS Titanic is one of the most infamous shipwrecks in history.  On April 15, 1912, during her maiden voyage, the Titanic sank after colliding with an iceberg, killing 1502 out of 2224 passengers and crew. This sensational tragedy shocked the international community and led to better safety regulations for ships.\n",
    "\n",
    "One of the reasons that the shipwreck led to such loss of life was that there were not enough lifeboats for the passengers and crew. Although there was some element of luck involved in surviving the sinking, some groups of people were more likely to survive than others, such as women, children, and the upper-class.\n",
    "\n",
    "In this challenge, we ask you to complete the analysis of what sorts of people were likely to survive. In particular, we ask you to apply the tools of machine learning to predict which passengers survived the tragedy."
   ]
  },
  {
   "cell_type": "code",
   "execution_count": 127,
   "metadata": {
    "collapsed": false
   },
   "outputs": [
    {
     "data": {
      "text/html": [
       "<iframe width=\"1000\" height=\"515\" src=\"https://www.youtube.com/embed/9xoqXVjBEF8\" frameborder=\"0\" allowfullscreen></iframe>"
      ],
      "text/plain": [
       "<IPython.core.display.HTML object>"
      ]
     },
     "execution_count": 127,
     "metadata": {},
     "output_type": "execute_result"
    }
   ],
   "source": [
    "from IPython.display import display, HTML\n",
    "HTML('<iframe width=\"1000\" height=\"515\" src=\"https://www.youtube.com/embed/9xoqXVjBEF8\" frameborder=\"0\" allowfullscreen></iframe>')"
   ]
  },
  {
   "cell_type": "markdown",
   "metadata": {},
   "source": [
    "### Evaluation\n",
    "\n",
    "#### Goal\n",
    "Predict if a passenger survived the sinking of the Titanic or not. \n",
    "\n",
    "#### Metric\n",
    "Your score is the percentage of passengers you correctly predict. This is known simply as \"accuracy”.\n",
    "\n",
    "***"
   ]
  },
  {
   "cell_type": "markdown",
   "metadata": {},
   "source": [
    "### Data Exploration\n",
    "\n",
    "**Keyword:** summary, correclation, data type.\n",
    "\n",
    "The goal here is to explore the data, understand the distribution and relation of the differents features.\n"
   ]
  },
  {
   "cell_type": "code",
   "execution_count": 128,
   "metadata": {
    "collapsed": true
   },
   "outputs": [],
   "source": [
    "# data analysis and wrangling\n",
    "import pandas as pd\n",
    "from pandas import Series,DataFrame\n",
    "import numpy as np\n",
    "import random as rnd\n",
    "\n",
    "# visualization\n",
    "import seaborn as sns\n",
    "import matplotlib.pyplot as plt\n",
    "%matplotlib inline\n",
    "# matplotlib.style.use('fivethirtyeight')\n",
    "\n",
    "# Data preparation\n",
    "from fancyimpute import BiScaler, KNN, NuclearNormMinimization, SoftImpute\n",
    "\n",
    "# Modeling \n",
    "from __future__ import division\n",
    "from sklearn.cross_validation import train_test_split, cross_val_score\n",
    "from sklearn.ensemble import RandomForestClassifier\n",
    "from sklearn.grid_search import GridSearchCV\n",
    "from sklearn.linear_model import LogisticRegression\n",
    "from sklearn.neighbors import KNeighborsClassifier\n",
    "from sklearn.svm import SVC, LinearSVC\n",
    "from sklearn.naive_bayes import GaussianNB\n",
    "from sklearn.linear_model import Perceptron\n",
    "from sklearn.linear_model import SGDClassifier\n",
    "from sklearn.tree import DecisionTreeClassifier\n",
    "\n",
    "import warnings\n",
    "#import xgboost as xgb"
   ]
  },
  {
   "cell_type": "code",
   "execution_count": 129,
   "metadata": {
    "collapsed": false
   },
   "outputs": [],
   "source": [
    "##Directory\n",
    "#import os \n",
    "#print(os.getcwd())"
   ]
  },
  {
   "cell_type": "code",
   "execution_count": 130,
   "metadata": {
    "collapsed": false
   },
   "outputs": [
    {
     "data": {
      "text/html": [
       "<div>\n",
       "<table border=\"1\" class=\"dataframe\">\n",
       "  <thead>\n",
       "    <tr style=\"text-align: right;\">\n",
       "      <th></th>\n",
       "      <th>PassengerId</th>\n",
       "      <th>Survived</th>\n",
       "      <th>Pclass</th>\n",
       "      <th>Name</th>\n",
       "      <th>Sex</th>\n",
       "      <th>Age</th>\n",
       "      <th>SibSp</th>\n",
       "      <th>Parch</th>\n",
       "      <th>Ticket</th>\n",
       "      <th>Fare</th>\n",
       "      <th>Cabin</th>\n",
       "      <th>Embarked</th>\n",
       "    </tr>\n",
       "  </thead>\n",
       "  <tbody>\n",
       "    <tr>\n",
       "      <th>0</th>\n",
       "      <td>1</td>\n",
       "      <td>0</td>\n",
       "      <td>3</td>\n",
       "      <td>Braund, Mr. Owen Harris</td>\n",
       "      <td>male</td>\n",
       "      <td>22.0</td>\n",
       "      <td>1</td>\n",
       "      <td>0</td>\n",
       "      <td>A/5 21171</td>\n",
       "      <td>7.2500</td>\n",
       "      <td>NaN</td>\n",
       "      <td>S</td>\n",
       "    </tr>\n",
       "    <tr>\n",
       "      <th>1</th>\n",
       "      <td>2</td>\n",
       "      <td>1</td>\n",
       "      <td>1</td>\n",
       "      <td>Cumings, Mrs. John Bradley (Florence Briggs Th...</td>\n",
       "      <td>female</td>\n",
       "      <td>38.0</td>\n",
       "      <td>1</td>\n",
       "      <td>0</td>\n",
       "      <td>PC 17599</td>\n",
       "      <td>71.2833</td>\n",
       "      <td>C85</td>\n",
       "      <td>C</td>\n",
       "    </tr>\n",
       "    <tr>\n",
       "      <th>2</th>\n",
       "      <td>3</td>\n",
       "      <td>1</td>\n",
       "      <td>3</td>\n",
       "      <td>Heikkinen, Miss. Laina</td>\n",
       "      <td>female</td>\n",
       "      <td>26.0</td>\n",
       "      <td>0</td>\n",
       "      <td>0</td>\n",
       "      <td>STON/O2. 3101282</td>\n",
       "      <td>7.9250</td>\n",
       "      <td>NaN</td>\n",
       "      <td>S</td>\n",
       "    </tr>\n",
       "    <tr>\n",
       "      <th>3</th>\n",
       "      <td>4</td>\n",
       "      <td>1</td>\n",
       "      <td>1</td>\n",
       "      <td>Futrelle, Mrs. Jacques Heath (Lily May Peel)</td>\n",
       "      <td>female</td>\n",
       "      <td>35.0</td>\n",
       "      <td>1</td>\n",
       "      <td>0</td>\n",
       "      <td>113803</td>\n",
       "      <td>53.1000</td>\n",
       "      <td>C123</td>\n",
       "      <td>S</td>\n",
       "    </tr>\n",
       "    <tr>\n",
       "      <th>4</th>\n",
       "      <td>5</td>\n",
       "      <td>0</td>\n",
       "      <td>3</td>\n",
       "      <td>Allen, Mr. William Henry</td>\n",
       "      <td>male</td>\n",
       "      <td>35.0</td>\n",
       "      <td>0</td>\n",
       "      <td>0</td>\n",
       "      <td>373450</td>\n",
       "      <td>8.0500</td>\n",
       "      <td>NaN</td>\n",
       "      <td>S</td>\n",
       "    </tr>\n",
       "  </tbody>\n",
       "</table>\n",
       "</div>"
      ],
      "text/plain": [
       "   PassengerId  Survived  Pclass  \\\n",
       "0            1         0       3   \n",
       "1            2         1       1   \n",
       "2            3         1       3   \n",
       "3            4         1       1   \n",
       "4            5         0       3   \n",
       "\n",
       "                                                Name     Sex   Age  SibSp  \\\n",
       "0                            Braund, Mr. Owen Harris    male  22.0      1   \n",
       "1  Cumings, Mrs. John Bradley (Florence Briggs Th...  female  38.0      1   \n",
       "2                             Heikkinen, Miss. Laina  female  26.0      0   \n",
       "3       Futrelle, Mrs. Jacques Heath (Lily May Peel)  female  35.0      1   \n",
       "4                           Allen, Mr. William Henry    male  35.0      0   \n",
       "\n",
       "   Parch            Ticket     Fare Cabin Embarked  \n",
       "0      0         A/5 21171   7.2500   NaN        S  \n",
       "1      0          PC 17599  71.2833   C85        C  \n",
       "2      0  STON/O2. 3101282   7.9250   NaN        S  \n",
       "3      0            113803  53.1000  C123        S  \n",
       "4      0            373450   8.0500   NaN        S  "
      ]
     },
     "execution_count": 130,
     "metadata": {},
     "output_type": "execute_result"
    }
   ],
   "source": [
    "#%% load the data\n",
    "train_df = pd.read_csv('train.csv')\n",
    "test_df = pd.read_csv('test.csv')\n",
    "train_df.head()"
   ]
  },
  {
   "cell_type": "markdown",
   "metadata": {},
   "source": [
    "#### Data Dictionary\n",
    "\n",
    "survival: Survival -> 0 = No, 1 = Yes  \n",
    "pclass: Ticket class -> 1 = 1st, 2 = 2nd, 3 = 3rd (Lower)  \n",
    "sex.\t\n",
    "Age. (if less than 1 then = xx.5)  \n",
    "sibsp: of siblings (brother, sister, stepbrother, stepsister) and spouse.\t  \n",
    "parch: of parents (mother, father) and daughter, son, stepdaughter, stepson. Some children travelled only with a nanny, therefore parch=0 for them.  \n",
    "ticket: Ticket number  \n",
    "fare: Passenger fare\t \n",
    "cabin: Cabin number\t  \n",
    "embarked: Port of Embarkation -> C = Cherbourg, Q = Queenstown, S = Southampton  \n",
    "\n",
    "#### Data type:   \n",
    "\n",
    "Categorical:\n",
    "- Name, Ticket  \n",
    "\n",
    "Discrete\n",
    "- Binary: Survived, Sex   \n",
    "- Ordinal: Pclass, Cabin    \n",
    "- Nominal: Embarked, SibSp, Parch   \n",
    "\n",
    "Continuious (Numeric)  \n",
    "- Age, Fare, PassengerId   \n"
   ]
  },
  {
   "cell_type": "markdown",
   "metadata": {},
   "source": [
    "***\n",
    "\n",
    "## Data Preparation\n",
    "\n",
    "**Keyword:** feature selection, feature extraction, missing values, outliers.\n",
    "\n",
    "The goal here is to select the most relevant features, reshape them, handle missing values and outliers and get data ready to be processed by different machine learning models.\n"
   ]
  },
  {
   "cell_type": "code",
   "execution_count": 131,
   "metadata": {
    "collapsed": false
   },
   "outputs": [
    {
     "data": {
      "text/html": [
       "<div>\n",
       "<table border=\"1\" class=\"dataframe\">\n",
       "  <thead>\n",
       "    <tr style=\"text-align: right;\">\n",
       "      <th></th>\n",
       "      <th>PassengerId</th>\n",
       "      <th>Survived</th>\n",
       "      <th>Pclass</th>\n",
       "      <th>Name</th>\n",
       "      <th>Sex</th>\n",
       "      <th>Age</th>\n",
       "      <th>SibSp</th>\n",
       "      <th>Parch</th>\n",
       "      <th>Ticket</th>\n",
       "      <th>Fare</th>\n",
       "      <th>Cabin</th>\n",
       "      <th>Embarked</th>\n",
       "      <th>Train</th>\n",
       "    </tr>\n",
       "  </thead>\n",
       "  <tbody>\n",
       "    <tr>\n",
       "      <th>0</th>\n",
       "      <td>1</td>\n",
       "      <td>0</td>\n",
       "      <td>3</td>\n",
       "      <td>Braund, Mr. Owen Harris</td>\n",
       "      <td>male</td>\n",
       "      <td>22.0</td>\n",
       "      <td>1</td>\n",
       "      <td>0</td>\n",
       "      <td>A/5 21171</td>\n",
       "      <td>7.2500</td>\n",
       "      <td>NaN</td>\n",
       "      <td>S</td>\n",
       "      <td>1</td>\n",
       "    </tr>\n",
       "    <tr>\n",
       "      <th>1</th>\n",
       "      <td>2</td>\n",
       "      <td>1</td>\n",
       "      <td>1</td>\n",
       "      <td>Cumings, Mrs. John Bradley (Florence Briggs Th...</td>\n",
       "      <td>female</td>\n",
       "      <td>38.0</td>\n",
       "      <td>1</td>\n",
       "      <td>0</td>\n",
       "      <td>PC 17599</td>\n",
       "      <td>71.2833</td>\n",
       "      <td>C85</td>\n",
       "      <td>C</td>\n",
       "      <td>1</td>\n",
       "    </tr>\n",
       "    <tr>\n",
       "      <th>2</th>\n",
       "      <td>3</td>\n",
       "      <td>1</td>\n",
       "      <td>3</td>\n",
       "      <td>Heikkinen, Miss. Laina</td>\n",
       "      <td>female</td>\n",
       "      <td>26.0</td>\n",
       "      <td>0</td>\n",
       "      <td>0</td>\n",
       "      <td>STON/O2. 3101282</td>\n",
       "      <td>7.9250</td>\n",
       "      <td>NaN</td>\n",
       "      <td>S</td>\n",
       "      <td>1</td>\n",
       "    </tr>\n",
       "    <tr>\n",
       "      <th>3</th>\n",
       "      <td>4</td>\n",
       "      <td>1</td>\n",
       "      <td>1</td>\n",
       "      <td>Futrelle, Mrs. Jacques Heath (Lily May Peel)</td>\n",
       "      <td>female</td>\n",
       "      <td>35.0</td>\n",
       "      <td>1</td>\n",
       "      <td>0</td>\n",
       "      <td>113803</td>\n",
       "      <td>53.1000</td>\n",
       "      <td>C123</td>\n",
       "      <td>S</td>\n",
       "      <td>1</td>\n",
       "    </tr>\n",
       "    <tr>\n",
       "      <th>4</th>\n",
       "      <td>5</td>\n",
       "      <td>0</td>\n",
       "      <td>3</td>\n",
       "      <td>Allen, Mr. William Henry</td>\n",
       "      <td>male</td>\n",
       "      <td>35.0</td>\n",
       "      <td>0</td>\n",
       "      <td>0</td>\n",
       "      <td>373450</td>\n",
       "      <td>8.0500</td>\n",
       "      <td>NaN</td>\n",
       "      <td>S</td>\n",
       "      <td>1</td>\n",
       "    </tr>\n",
       "  </tbody>\n",
       "</table>\n",
       "</div>"
      ],
      "text/plain": [
       "   PassengerId  Survived  Pclass  \\\n",
       "0            1         0       3   \n",
       "1            2         1       1   \n",
       "2            3         1       3   \n",
       "3            4         1       1   \n",
       "4            5         0       3   \n",
       "\n",
       "                                                Name     Sex   Age  SibSp  \\\n",
       "0                            Braund, Mr. Owen Harris    male  22.0      1   \n",
       "1  Cumings, Mrs. John Bradley (Florence Briggs Th...  female  38.0      1   \n",
       "2                             Heikkinen, Miss. Laina  female  26.0      0   \n",
       "3       Futrelle, Mrs. Jacques Heath (Lily May Peel)  female  35.0      1   \n",
       "4                           Allen, Mr. William Henry    male  35.0      0   \n",
       "\n",
       "   Parch            Ticket     Fare Cabin Embarked  Train  \n",
       "0      0         A/5 21171   7.2500   NaN        S      1  \n",
       "1      0          PC 17599  71.2833   C85        C      1  \n",
       "2      0  STON/O2. 3101282   7.9250   NaN        S      1  \n",
       "3      0            113803  53.1000  C123        S      1  \n",
       "4      0            373450   8.0500   NaN        S      1  "
      ]
     },
     "execution_count": 131,
     "metadata": {},
     "output_type": "execute_result"
    }
   ],
   "source": [
    "def ingest_data():\n",
    "    train = pd.read_csv('train.csv').assign(Train = 1)\n",
    "    test = (pd.read_csv('test.csv').assign(Train = 0)\n",
    "            .assign(Survived = -999)[list(train)])\n",
    "    return pd.concat([train, test])\n",
    "\n",
    "extract_lastname = lambda x: x.split(',')[0]\n",
    "data = ingest_data()\n",
    "data.head()"
   ]
  },
  {
   "cell_type": "code",
   "execution_count": 132,
   "metadata": {
    "collapsed": false
   },
   "outputs": [
    {
     "data": {
      "text/plain": [
       "<matplotlib.axes._subplots.AxesSubplot at 0x11cd0f0f0>"
      ]
     },
     "execution_count": 132,
     "metadata": {},
     "output_type": "execute_result"
    },
    {
     "data": {
      "image/png": "[encoded data removed]",
      "text/plain": [
       "<matplotlib.figure.Figure at 0x11a0f4d68>"
      ]
     },
     "metadata": {},
     "output_type": "display_data"
    }
   ],
   "source": [
    "corr = data.select_dtypes(include = ['float64', 'int64']).iloc[:, 1:].corr().drop(['Train'])\n",
    "plt.figure(figsize=(15, 12))\n",
    "sns.heatmap(corr, vmax=1, square=True)"
   ]
  },
  {
   "cell_type": "code",
   "execution_count": 133,
   "metadata": {
    "collapsed": false
   },
   "outputs": [],
   "source": [
    "# fill embarked with the most occured value\n",
    "data['Embarked'] = data['Embarked'].fillna('S')"
   ]
  },
  {
   "cell_type": "code",
   "execution_count": 134,
   "metadata": {
    "collapsed": true
   },
   "outputs": [],
   "source": [
    "# Sources code: https://github.com/jakesherman/titanic-kaggle/blob/master/data-processing-modeling.ipynb \n",
    "\n",
    "def extract_title(x):\n",
    "    \"\"\"Get the person's title from their name. Combine reduntant or less common \n",
    "    titles together.\n",
    "    \"\"\"\n",
    "    title = x.split(',')[1].split('.')[0][1:]\n",
    "    if title in ['Mlle', 'Ms']:\n",
    "        title = 'Miss'\n",
    "    elif title == 'Mme':\n",
    "        title = 'Mrs'\n",
    "    elif title in ['Rev', 'Dr', 'Major', 'Col', 'Capt', 'Jonkheer', 'Dona']:\n",
    "        title = 'Esteemed'\n",
    "    elif title in ['Don', 'Lady', 'Sir', 'the Countess']:\n",
    "        title = 'Royalty'\n",
    "    return title\n",
    "\n",
    "first_letter = np.vectorize(lambda x: x[:1]) "
   ]
  },
  {
   "cell_type": "code",
   "execution_count": 135,
   "metadata": {
    "collapsed": false
   },
   "outputs": [],
   "source": [
    "def sex_numeric(x):\n",
    "    \"\"\" Transform sex to a numeric variable\n",
    "    \"\"\"\n",
    "    if x in ['male']:\n",
    "        x = '1'\n",
    "    elif x in ['female']:\n",
    "        x = '0'\n",
    "    return x\n"
   ]
  },
  {
   "cell_type": "code",
   "execution_count": 136,
   "metadata": {
    "collapsed": false
   },
   "outputs": [],
   "source": [
    "def create_dummy_nans(data, col_name):\n",
    "    \"\"\"Create dummies for a column in a DataFrame, and preserve np.nans in their \n",
    "    original places instead of in a separate _nan column.\n",
    "    \"\"\"\n",
    "    deck_cols = [col for col in list(data) if col_name in col]\n",
    "    for deck_col in deck_cols:\n",
    "        data[deck_col] = np.where(\n",
    "            data[col_name + 'nan'] == 1.0, np.nan, data[deck_col])\n",
    "    return data.drop([col_name + 'nan'], axis = 1)\n"
   ]
  },
  {
   "cell_type": "code",
   "execution_count": 137,
   "metadata": {
    "collapsed": false
   },
   "outputs": [],
   "source": [
    "def feature_engineering(data):\n",
    "    return (data\n",
    "            # Create last name, title, family size, and family features\n",
    "            .assign(LastName = lambda x: x.Name.map(extract_lastname))\n",
    "            .assign(Title = lambda x: x.Name.map(extract_title))\n",
    "            .assign(FamSize = lambda x: x.SibSp + x.Parch + 1)\n",
    "            .assign(Family = lambda x: [a + '_' + str(b) for a, b in zip(\n",
    "                    list(x.LastName), list(x.FamSize))])\n",
    "\n",
    "            .assign(Sex = lambda x: x.Sex.map(sex_numeric))\n",
    "            \n",
    "             # Turn the Cabin feature into a Deck feature (A-G)\n",
    "            .assign(Deck = lambda x: np.where(\n",
    "            pd.notnull(x.Cabin), first_letter(x.Cabin.fillna('z')), x.Cabin))\n",
    "            .assign(Deck = lambda x: np.where(x.Deck == 'T', np.nan, x.Deck))\n",
    "            \n",
    "            # Create dummy variables for the categorical features\n",
    "            .assign(Pclass = lambda x: x.Pclass.astype(str))\n",
    "            .pipe(pd.get_dummies, columns = ['Pclass','Title']) # Can add 'Family' and even'Ticket'.\n",
    "            .pipe(pd.get_dummies, columns = ['Embarked'], dummy_na = True)\n",
    "            .pipe(create_dummy_nans, 'Embarked_')\n",
    "            \n",
    "            # Drop columns we don't need\n",
    "            .drop(['Name', 'Cabin', 'Ticket', 'PassengerId', 'SibSp', 'Parch'], axis = 1)\n",
    "            \n",
    "    )"
   ]
  },
  {
   "cell_type": "code",
   "execution_count": 138,
   "metadata": {
    "collapsed": false
   },
   "outputs": [],
   "source": [
    "data = feature_engineering(data)"
   ]
  },
  {
   "cell_type": "code",
   "execution_count": 139,
   "metadata": {
    "collapsed": false,
    "scrolled": false
   },
   "outputs": [
    {
     "data": {
      "text/html": [
       "<div>\n",
       "<table border=\"1\" class=\"dataframe\">\n",
       "  <thead>\n",
       "    <tr style=\"text-align: right;\">\n",
       "      <th></th>\n",
       "      <th>Survived</th>\n",
       "      <th>Sex</th>\n",
       "      <th>Age</th>\n",
       "      <th>Fare</th>\n",
       "      <th>Train</th>\n",
       "      <th>LastName</th>\n",
       "      <th>FamSize</th>\n",
       "      <th>Family</th>\n",
       "      <th>Deck</th>\n",
       "      <th>Pclass_1</th>\n",
       "      <th>...</th>\n",
       "      <th>Pclass_3</th>\n",
       "      <th>Title_Esteemed</th>\n",
       "      <th>Title_Master</th>\n",
       "      <th>Title_Miss</th>\n",
       "      <th>Title_Mr</th>\n",
       "      <th>Title_Mrs</th>\n",
       "      <th>Title_Royalty</th>\n",
       "      <th>Embarked_C</th>\n",
       "      <th>Embarked_Q</th>\n",
       "      <th>Embarked_S</th>\n",
       "    </tr>\n",
       "  </thead>\n",
       "  <tbody>\n",
       "    <tr>\n",
       "      <th>0</th>\n",
       "      <td>0</td>\n",
       "      <td>1</td>\n",
       "      <td>22.0</td>\n",
       "      <td>7.2500</td>\n",
       "      <td>1</td>\n",
       "      <td>Braund</td>\n",
       "      <td>2</td>\n",
       "      <td>Braund_2</td>\n",
       "      <td>NaN</td>\n",
       "      <td>0.0</td>\n",
       "      <td>...</td>\n",
       "      <td>1.0</td>\n",
       "      <td>0.0</td>\n",
       "      <td>0.0</td>\n",
       "      <td>0.0</td>\n",
       "      <td>1.0</td>\n",
       "      <td>0.0</td>\n",
       "      <td>0.0</td>\n",
       "      <td>0.0</td>\n",
       "      <td>0.0</td>\n",
       "      <td>1.0</td>\n",
       "    </tr>\n",
       "    <tr>\n",
       "      <th>1</th>\n",
       "      <td>1</td>\n",
       "      <td>0</td>\n",
       "      <td>38.0</td>\n",
       "      <td>71.2833</td>\n",
       "      <td>1</td>\n",
       "      <td>Cumings</td>\n",
       "      <td>2</td>\n",
       "      <td>Cumings_2</td>\n",
       "      <td>C</td>\n",
       "      <td>1.0</td>\n",
       "      <td>...</td>\n",
       "      <td>0.0</td>\n",
       "      <td>0.0</td>\n",
       "      <td>0.0</td>\n",
       "      <td>0.0</td>\n",
       "      <td>0.0</td>\n",
       "      <td>1.0</td>\n",
       "      <td>0.0</td>\n",
       "      <td>1.0</td>\n",
       "      <td>0.0</td>\n",
       "      <td>0.0</td>\n",
       "    </tr>\n",
       "    <tr>\n",
       "      <th>2</th>\n",
       "      <td>1</td>\n",
       "      <td>0</td>\n",
       "      <td>26.0</td>\n",
       "      <td>7.9250</td>\n",
       "      <td>1</td>\n",
       "      <td>Heikkinen</td>\n",
       "      <td>1</td>\n",
       "      <td>Heikkinen_1</td>\n",
       "      <td>NaN</td>\n",
       "      <td>0.0</td>\n",
       "      <td>...</td>\n",
       "      <td>1.0</td>\n",
       "      <td>0.0</td>\n",
       "      <td>0.0</td>\n",
       "      <td>1.0</td>\n",
       "      <td>0.0</td>\n",
       "      <td>0.0</td>\n",
       "      <td>0.0</td>\n",
       "      <td>0.0</td>\n",
       "      <td>0.0</td>\n",
       "      <td>1.0</td>\n",
       "    </tr>\n",
       "    <tr>\n",
       "      <th>3</th>\n",
       "      <td>1</td>\n",
       "      <td>0</td>\n",
       "      <td>35.0</td>\n",
       "      <td>53.1000</td>\n",
       "      <td>1</td>\n",
       "      <td>Futrelle</td>\n",
       "      <td>2</td>\n",
       "      <td>Futrelle_2</td>\n",
       "      <td>C</td>\n",
       "      <td>1.0</td>\n",
       "      <td>...</td>\n",
       "      <td>0.0</td>\n",
       "      <td>0.0</td>\n",
       "      <td>0.0</td>\n",
       "      <td>0.0</td>\n",
       "      <td>0.0</td>\n",
       "      <td>1.0</td>\n",
       "      <td>0.0</td>\n",
       "      <td>0.0</td>\n",
       "      <td>0.0</td>\n",
       "      <td>1.0</td>\n",
       "    </tr>\n",
       "    <tr>\n",
       "      <th>4</th>\n",
       "      <td>0</td>\n",
       "      <td>1</td>\n",
       "      <td>35.0</td>\n",
       "      <td>8.0500</td>\n",
       "      <td>1</td>\n",
       "      <td>Allen</td>\n",
       "      <td>1</td>\n",
       "      <td>Allen_1</td>\n",
       "      <td>NaN</td>\n",
       "      <td>0.0</td>\n",
       "      <td>...</td>\n",
       "      <td>1.0</td>\n",
       "      <td>0.0</td>\n",
       "      <td>0.0</td>\n",
       "      <td>0.0</td>\n",
       "      <td>1.0</td>\n",
       "      <td>0.0</td>\n",
       "      <td>0.0</td>\n",
       "      <td>0.0</td>\n",
       "      <td>0.0</td>\n",
       "      <td>1.0</td>\n",
       "    </tr>\n",
       "  </tbody>\n",
       "</table>\n",
       "<p>5 rows × 21 columns</p>\n",
       "</div>"
      ],
      "text/plain": [
       "   Survived Sex   Age     Fare  Train   LastName  FamSize       Family Deck  \\\n",
       "0         0   1  22.0   7.2500      1     Braund        2     Braund_2  NaN   \n",
       "1         1   0  38.0  71.2833      1    Cumings        2    Cumings_2    C   \n",
       "2         1   0  26.0   7.9250      1  Heikkinen        1  Heikkinen_1  NaN   \n",
       "3         1   0  35.0  53.1000      1   Futrelle        2   Futrelle_2    C   \n",
       "4         0   1  35.0   8.0500      1      Allen        1      Allen_1  NaN   \n",
       "\n",
       "   Pclass_1     ...      Pclass_3  Title_Esteemed  Title_Master  Title_Miss  \\\n",
       "0       0.0     ...           1.0             0.0           0.0         0.0   \n",
       "1       1.0     ...           0.0             0.0           0.0         0.0   \n",
       "2       0.0     ...           1.0             0.0           0.0         1.0   \n",
       "3       1.0     ...           0.0             0.0           0.0         0.0   \n",
       "4       0.0     ...           1.0             0.0           0.0         0.0   \n",
       "\n",
       "   Title_Mr  Title_Mrs  Title_Royalty  Embarked_C  Embarked_Q  Embarked_S  \n",
       "0       1.0        0.0            0.0         0.0         0.0         1.0  \n",
       "1       0.0        1.0            0.0         1.0         0.0         0.0  \n",
       "2       0.0        0.0            0.0         0.0         0.0         1.0  \n",
       "3       0.0        1.0            0.0         0.0         0.0         1.0  \n",
       "4       1.0        0.0            0.0         0.0         0.0         1.0  \n",
       "\n",
       "[5 rows x 21 columns]"
      ]
     },
     "execution_count": 139,
     "metadata": {},
     "output_type": "execute_result"
    }
   ],
   "source": [
    "data.head()"
   ]
  },
  {
   "cell_type": "markdown",
   "metadata": {},
   "source": [
    "#### Impute missing values"
   ]
  },
  {
   "cell_type": "code",
   "execution_count": 140,
   "metadata": {
    "collapsed": true
   },
   "outputs": [],
   "source": [
    "def impute(data):\n",
    "    \"\"\"Impute missing values in the Age, Embarked, and Fare features.\n",
    "    \"\"\"\n",
    "    impute_missing = data.drop(['Survived', 'Train', 'LastName', 'Deck', 'Family'], axis = 1)\n",
    "    impute_missing_cols = list(impute_missing)\n",
    "\n",
    "    #filled_soft = fancyimpute.MICE().complete(np.array(impute_missing))\n",
    "    X_filled_knn = KNN(k=5).complete(impute_missing)\n",
    "    results = pd.DataFrame(X_filled_knn, columns = impute_missing_cols)\n",
    "    results['Train'] = list(data['Train'])\n",
    "    results['Survived'] = list(data['Survived'])\n",
    "    results['LastName'] = list(data['LastName'])\n",
    "    results['Deck'] = list(data['Deck'])\n",
    "\n",
    "    #assert results.isnull().sum().sum() == 0, 'Not all NAs removed'\n",
    "    return results"
   ]
  },
  {
   "cell_type": "code",
   "execution_count": 141,
   "metadata": {
    "collapsed": false
   },
   "outputs": [
    {
     "name": "stdout",
     "output_type": "stream",
     "text": [
      "Imputing row 1/1309 with 0 missing, elapsed time: 0.376\n",
      "Imputing row 101/1309 with 0 missing, elapsed time: 0.377\n",
      "Imputing row 201/1309 with 0 missing, elapsed time: 0.377\n",
      "Imputing row 301/1309 with 1 missing, elapsed time: 0.378\n",
      "Imputing row 401/1309 with 0 missing, elapsed time: 0.379\n",
      "Imputing row 501/1309 with 0 missing, elapsed time: 0.379\n",
      "Imputing row 601/1309 with 0 missing, elapsed time: 0.380\n",
      "Imputing row 701/1309 with 0 missing, elapsed time: 0.381\n",
      "Imputing row 801/1309 with 0 missing, elapsed time: 0.382\n",
      "Imputing row 901/1309 with 0 missing, elapsed time: 0.383\n",
      "Imputing row 1001/1309 with 0 missing, elapsed time: 0.383\n",
      "Imputing row 1101/1309 with 0 missing, elapsed time: 0.384\n",
      "Imputing row 1201/1309 with 0 missing, elapsed time: 0.385\n",
      "Imputing row 1301/1309 with 0 missing, elapsed time: 0.386\n"
     ]
    }
   ],
   "source": [
    "data = impute(data)"
   ]
  },
  {
   "cell_type": "markdown",
   "metadata": {},
   "source": [
    "#### Transform numerical variables"
   ]
  },
  {
   "cell_type": "code",
   "execution_count": 142,
   "metadata": {
    "collapsed": false
   },
   "outputs": [],
   "source": [
    "data['FareBand'] = pd.qcut(data['Fare'], 4)\n",
    "\n",
    "def Fare(x):\n",
    "    \"\"\" Transform sex to a numeric variable\n",
    "    \"\"\"\n",
    "    if x in ['[0, 7.896]']:\n",
    "        x = '0'\n",
    "    elif x in ['(7.896, 14.454]']:\n",
    "        x = '1'\n",
    "    elif x in ['(14.454, 31.275]']:\n",
    "        x = '2'\n",
    "    elif x in ['(31.275, 512.329]']:\n",
    "        x = '3'\n",
    "    return x"
   ]
  },
  {
   "cell_type": "code",
   "execution_count": 143,
   "metadata": {
    "collapsed": false
   },
   "outputs": [],
   "source": [
    "data['Agecut'] = pd.qcut(data['Age'], 4)\n",
    "\n",
    "def Age(x):\n",
    "    \"\"\" Transform sex to a numeric variable\n",
    "    \"\"\"\n",
    "    if x in ['[0.17, 21.134]']:\n",
    "        x = '0'\n",
    "    elif x in ['(21.134, 28.8]']:\n",
    "        x = '1'\n",
    "    elif x in ['(28.8, 38.5]']:\n",
    "        x = '2'\n",
    "    elif x in ['(38.5, 80]']:\n",
    "        x = '3'\n",
    "    return x"
   ]
  },
  {
   "cell_type": "code",
   "execution_count": 144,
   "metadata": {
    "collapsed": true
   },
   "outputs": [],
   "source": [
    "def feature_engineering_test(data):\n",
    "    return (data\n",
    "        .assign(FareBand = lambda x: x.FareBand.map(Fare))\n",
    "        .assign(Agecut = lambda x: x.Agecut.map(Age))\n",
    "            \n",
    "         # Drop columns we don't need\n",
    "        .drop(['Fare', 'Age', 'LastName', 'Deck'], axis = 1) #We could use Deck!\n",
    "            \n",
    "    )"
   ]
  },
  {
   "cell_type": "code",
   "execution_count": 145,
   "metadata": {
    "collapsed": false
   },
   "outputs": [
    {
     "data": {
      "text/html": [
       "<div>\n",
       "<table border=\"1\" class=\"dataframe\">\n",
       "  <thead>\n",
       "    <tr style=\"text-align: right;\">\n",
       "      <th></th>\n",
       "      <th>Sex</th>\n",
       "      <th>FamSize</th>\n",
       "      <th>Pclass_1</th>\n",
       "      <th>Pclass_2</th>\n",
       "      <th>Pclass_3</th>\n",
       "      <th>Title_Esteemed</th>\n",
       "      <th>Title_Master</th>\n",
       "      <th>Title_Miss</th>\n",
       "      <th>Title_Mr</th>\n",
       "      <th>Title_Mrs</th>\n",
       "      <th>Title_Royalty</th>\n",
       "      <th>Embarked_C</th>\n",
       "      <th>Embarked_Q</th>\n",
       "      <th>Embarked_S</th>\n",
       "      <th>Train</th>\n",
       "      <th>Survived</th>\n",
       "      <th>FareBand</th>\n",
       "      <th>Agecut</th>\n",
       "    </tr>\n",
       "  </thead>\n",
       "  <tbody>\n",
       "    <tr>\n",
       "      <th>0</th>\n",
       "      <td>1.0</td>\n",
       "      <td>2.0</td>\n",
       "      <td>0.0</td>\n",
       "      <td>0.0</td>\n",
       "      <td>1.0</td>\n",
       "      <td>0.0</td>\n",
       "      <td>0.0</td>\n",
       "      <td>0.0</td>\n",
       "      <td>1.0</td>\n",
       "      <td>0.0</td>\n",
       "      <td>0.0</td>\n",
       "      <td>0.0</td>\n",
       "      <td>0.0</td>\n",
       "      <td>1.0</td>\n",
       "      <td>1</td>\n",
       "      <td>0</td>\n",
       "      <td>0</td>\n",
       "      <td>1</td>\n",
       "    </tr>\n",
       "    <tr>\n",
       "      <th>1</th>\n",
       "      <td>0.0</td>\n",
       "      <td>2.0</td>\n",
       "      <td>1.0</td>\n",
       "      <td>0.0</td>\n",
       "      <td>0.0</td>\n",
       "      <td>0.0</td>\n",
       "      <td>0.0</td>\n",
       "      <td>0.0</td>\n",
       "      <td>0.0</td>\n",
       "      <td>1.0</td>\n",
       "      <td>0.0</td>\n",
       "      <td>1.0</td>\n",
       "      <td>0.0</td>\n",
       "      <td>0.0</td>\n",
       "      <td>1</td>\n",
       "      <td>1</td>\n",
       "      <td>3</td>\n",
       "      <td>2</td>\n",
       "    </tr>\n",
       "    <tr>\n",
       "      <th>2</th>\n",
       "      <td>0.0</td>\n",
       "      <td>1.0</td>\n",
       "      <td>0.0</td>\n",
       "      <td>0.0</td>\n",
       "      <td>1.0</td>\n",
       "      <td>0.0</td>\n",
       "      <td>0.0</td>\n",
       "      <td>1.0</td>\n",
       "      <td>0.0</td>\n",
       "      <td>0.0</td>\n",
       "      <td>0.0</td>\n",
       "      <td>0.0</td>\n",
       "      <td>0.0</td>\n",
       "      <td>1.0</td>\n",
       "      <td>1</td>\n",
       "      <td>1</td>\n",
       "      <td>1</td>\n",
       "      <td>1</td>\n",
       "    </tr>\n",
       "    <tr>\n",
       "      <th>3</th>\n",
       "      <td>0.0</td>\n",
       "      <td>2.0</td>\n",
       "      <td>1.0</td>\n",
       "      <td>0.0</td>\n",
       "      <td>0.0</td>\n",
       "      <td>0.0</td>\n",
       "      <td>0.0</td>\n",
       "      <td>0.0</td>\n",
       "      <td>0.0</td>\n",
       "      <td>1.0</td>\n",
       "      <td>0.0</td>\n",
       "      <td>0.0</td>\n",
       "      <td>0.0</td>\n",
       "      <td>1.0</td>\n",
       "      <td>1</td>\n",
       "      <td>1</td>\n",
       "      <td>3</td>\n",
       "      <td>2</td>\n",
       "    </tr>\n",
       "    <tr>\n",
       "      <th>4</th>\n",
       "      <td>1.0</td>\n",
       "      <td>1.0</td>\n",
       "      <td>0.0</td>\n",
       "      <td>0.0</td>\n",
       "      <td>1.0</td>\n",
       "      <td>0.0</td>\n",
       "      <td>0.0</td>\n",
       "      <td>0.0</td>\n",
       "      <td>1.0</td>\n",
       "      <td>0.0</td>\n",
       "      <td>0.0</td>\n",
       "      <td>0.0</td>\n",
       "      <td>0.0</td>\n",
       "      <td>1.0</td>\n",
       "      <td>1</td>\n",
       "      <td>0</td>\n",
       "      <td>1</td>\n",
       "      <td>2</td>\n",
       "    </tr>\n",
       "  </tbody>\n",
       "</table>\n",
       "</div>"
      ],
      "text/plain": [
       "   Sex  FamSize  Pclass_1  Pclass_2  Pclass_3  Title_Esteemed  Title_Master  \\\n",
       "0  1.0      2.0       0.0       0.0       1.0             0.0           0.0   \n",
       "1  0.0      2.0       1.0       0.0       0.0             0.0           0.0   \n",
       "2  0.0      1.0       0.0       0.0       1.0             0.0           0.0   \n",
       "3  0.0      2.0       1.0       0.0       0.0             0.0           0.0   \n",
       "4  1.0      1.0       0.0       0.0       1.0             0.0           0.0   \n",
       "\n",
       "   Title_Miss  Title_Mr  Title_Mrs  Title_Royalty  Embarked_C  Embarked_Q  \\\n",
       "0         0.0       1.0        0.0            0.0         0.0         0.0   \n",
       "1         0.0       0.0        1.0            0.0         1.0         0.0   \n",
       "2         1.0       0.0        0.0            0.0         0.0         0.0   \n",
       "3         0.0       0.0        1.0            0.0         0.0         0.0   \n",
       "4         0.0       1.0        0.0            0.0         0.0         0.0   \n",
       "\n",
       "   Embarked_S  Train  Survived FareBand Agecut  \n",
       "0         1.0      1         0        0      1  \n",
       "1         0.0      1         1        3      2  \n",
       "2         1.0      1         1        1      1  \n",
       "3         1.0      1         1        3      2  \n",
       "4         1.0      1         0        1      2  "
      ]
     },
     "execution_count": 145,
     "metadata": {},
     "output_type": "execute_result"
    }
   ],
   "source": [
    "data = feature_engineering_test(data)\n",
    "data.head()"
   ]
  },
  {
   "cell_type": "markdown",
   "metadata": {},
   "source": [
    "## Modeling\n",
    "\n",
    "The goal here is to predict if a passenger survived the sinking of the Titanic or not. "
   ]
  },
  {
   "cell_type": "code",
   "execution_count": 146,
   "metadata": {
    "collapsed": false
   },
   "outputs": [],
   "source": [
    "def split_data(data):\n",
    "    \"\"\"\n",
    "    Split the combined training/prediction data into separate training and \n",
    "    prediction sets.\n",
    "    \"\"\"\n",
    "    outcomes = np.array(data.query('Train == 1')['Survived'])\n",
    "    train = (data.query('Train == 1')\n",
    "             .drop(['Train', 'Survived'], axis = 1))\n",
    "    to_predict = (data.query('Train == 0')\n",
    "                  .drop(['Train', 'Survived'], axis = 1))\n",
    "    return train, outcomes, to_predict\n",
    "\n",
    "## OR\n",
    "#X_train = train_df.drop(\"Survived\", axis=1)\n",
    "#Y_train = train_df[\"Survived\"]\n",
    "#X_test  = test_df.drop(\"PassengerId\", axis=1).copy()\n",
    "#X_train.shape, Y_train.shape, X_test.shape"
   ]
  },
  {
   "cell_type": "code",
   "execution_count": 147,
   "metadata": {
    "collapsed": true
   },
   "outputs": [],
   "source": [
    "train, outcomes, to_predict = split_data(data)"
   ]
  },
  {
   "cell_type": "code",
   "execution_count": 148,
   "metadata": {
    "collapsed": false
   },
   "outputs": [
    {
     "name": "stdout",
     "output_type": "stream",
     "text": [
      "<class 'pandas.core.frame.DataFrame'>\n",
      "Int64Index: 891 entries, 0 to 890\n",
      "Data columns (total 16 columns):\n",
      "Sex               891 non-null float64\n",
      "FamSize           891 non-null float64\n",
      "Pclass_1          891 non-null float64\n",
      "Pclass_2          891 non-null float64\n",
      "Pclass_3          891 non-null float64\n",
      "Title_Esteemed    891 non-null float64\n",
      "Title_Master      891 non-null float64\n",
      "Title_Miss        891 non-null float64\n",
      "Title_Mr          891 non-null float64\n",
      "Title_Mrs         891 non-null float64\n",
      "Title_Royalty     891 non-null float64\n",
      "Embarked_C        891 non-null float64\n",
      "Embarked_Q        891 non-null float64\n",
      "Embarked_S        891 non-null float64\n",
      "FareBand          891 non-null category\n",
      "Agecut            891 non-null category\n",
      "dtypes: category(2), float64(14)\n",
      "memory usage: 106.2 KB\n",
      "________________________________________\n",
      "<class 'pandas.core.frame.DataFrame'>\n",
      "Int64Index: 418 entries, 891 to 1308\n",
      "Data columns (total 16 columns):\n",
      "Sex               418 non-null float64\n",
      "FamSize           418 non-null float64\n",
      "Pclass_1          418 non-null float64\n",
      "Pclass_2          418 non-null float64\n",
      "Pclass_3          418 non-null float64\n",
      "Title_Esteemed    418 non-null float64\n",
      "Title_Master      418 non-null float64\n",
      "Title_Miss        418 non-null float64\n",
      "Title_Mr          418 non-null float64\n",
      "Title_Mrs         418 non-null float64\n",
      "Title_Royalty     418 non-null float64\n",
      "Embarked_C        418 non-null float64\n",
      "Embarked_Q        418 non-null float64\n",
      "Embarked_S        418 non-null float64\n",
      "FareBand          418 non-null category\n",
      "Agecut            418 non-null category\n",
      "dtypes: category(2), float64(14)\n",
      "memory usage: 49.9 KB\n"
     ]
    }
   ],
   "source": [
    "train.info()\n",
    "print('_'*40)\n",
    "to_predict.info()"
   ]
  },
  {
   "cell_type": "code",
   "execution_count": 149,
   "metadata": {
    "collapsed": false
   },
   "outputs": [
    {
     "data": {
      "text/plain": [
       "83.390000000000001"
      ]
     },
     "execution_count": 149,
     "metadata": {},
     "output_type": "execute_result"
    }
   ],
   "source": [
    "# Logistic Regression\n",
    "logreg = LogisticRegression()\n",
    "logreg.fit(train, outcomes)\n",
    "Y_pred = logreg.predict(to_predict)\n",
    "acc_log = round(logreg.score(train, outcomes) * 100, 2)\n",
    "acc_log"
   ]
  },
  {
   "cell_type": "code",
   "execution_count": 150,
   "metadata": {
    "collapsed": false
   },
   "outputs": [
    {
     "data": {
      "text/plain": [
       "83.609999999999999"
      ]
     },
     "execution_count": 150,
     "metadata": {},
     "output_type": "execute_result"
    }
   ],
   "source": [
    "# Support Vector Machines\n",
    "svc = SVC()\n",
    "svc.fit(train, outcomes)\n",
    "Y_pred = svc.predict(to_predict)\n",
    "acc_svc = round(svc.score(train, outcomes) * 100, 2)\n",
    "acc_svc"
   ]
  },
  {
   "cell_type": "code",
   "execution_count": 151,
   "metadata": {
    "collapsed": false
   },
   "outputs": [
    {
     "data": {
      "text/plain": [
       "85.969999999999999"
      ]
     },
     "execution_count": 151,
     "metadata": {},
     "output_type": "execute_result"
    }
   ],
   "source": [
    "knn = KNeighborsClassifier(n_neighbors = 3)\n",
    "knn.fit(train, outcomes)\n",
    "Y_pred = knn.predict(to_predict)\n",
    "acc_knn = round(knn.score(train, outcomes) * 100, 2)\n",
    "acc_knn"
   ]
  },
  {
   "cell_type": "code",
   "execution_count": 152,
   "metadata": {
    "collapsed": false
   },
   "outputs": [
    {
     "data": {
      "text/plain": [
       "80.469999999999999"
      ]
     },
     "execution_count": 152,
     "metadata": {},
     "output_type": "execute_result"
    }
   ],
   "source": [
    "# Gaussian Naive Bayes\n",
    "gaussian = GaussianNB()\n",
    "gaussian.fit(train, outcomes)\n",
    "Y_pred = gaussian.predict(to_predict)\n",
    "acc_gaussian = round(gaussian.score(train, outcomes) * 100, 2)\n",
    "acc_gaussian"
   ]
  },
  {
   "cell_type": "code",
   "execution_count": 153,
   "metadata": {
    "collapsed": false
   },
   "outputs": [
    {
     "data": {
      "text/plain": [
       "77.549999999999997"
      ]
     },
     "execution_count": 153,
     "metadata": {},
     "output_type": "execute_result"
    }
   ],
   "source": [
    "# Perceptron\n",
    "\n",
    "perceptron = Perceptron()\n",
    "perceptron.fit(train, outcomes)\n",
    "Y_pred = perceptron.predict(to_predict)\n",
    "acc_perceptron = round(perceptron.score(train, outcomes) * 100, 2)\n",
    "acc_perceptron"
   ]
  },
  {
   "cell_type": "code",
   "execution_count": 154,
   "metadata": {
    "collapsed": false
   },
   "outputs": [
    {
     "data": {
      "text/plain": [
       "83.609999999999999"
      ]
     },
     "execution_count": 154,
     "metadata": {},
     "output_type": "execute_result"
    }
   ],
   "source": [
    "# Linear SVC\n",
    "\n",
    "linear_svc = LinearSVC()\n",
    "linear_svc.fit(train, outcomes)\n",
    "Y_pred = linear_svc.predict(to_predict)\n",
    "acc_linear_svc = round(linear_svc.score(train, outcomes) * 100, 2)\n",
    "acc_linear_svc"
   ]
  },
  {
   "cell_type": "code",
   "execution_count": 155,
   "metadata": {
    "collapsed": false
   },
   "outputs": [
    {
     "data": {
      "text/plain": [
       "88.659999999999997"
      ]
     },
     "execution_count": 155,
     "metadata": {},
     "output_type": "execute_result"
    }
   ],
   "source": [
    "# Decision Tree\n",
    "\n",
    "decision_tree = DecisionTreeClassifier()\n",
    "decision_tree.fit(train, outcomes)\n",
    "Y_pred = decision_tree.predict(to_predict)\n",
    "acc_decision_tree = round(decision_tree.score(train, outcomes) * 100, 2)\n",
    "acc_decision_tree"
   ]
  },
  {
   "cell_type": "code",
   "execution_count": 156,
   "metadata": {
    "collapsed": false
   },
   "outputs": [
    {
     "data": {
      "text/plain": [
       "88.659999999999997"
      ]
     },
     "execution_count": 156,
     "metadata": {},
     "output_type": "execute_result"
    }
   ],
   "source": [
    "# Random Forest\n",
    "\n",
    "random_forest = RandomForestClassifier(n_estimators=100)\n",
    "random_forest.fit(train, outcomes)\n",
    "Y_pred = random_forest.predict(to_predict)\n",
    "random_forest.score(train, outcomes)\n",
    "acc_random_forest = round(random_forest.score(train, outcomes) * 100, 2)\n",
    "acc_random_forest"
   ]
  },
  {
   "cell_type": "markdown",
   "metadata": {},
   "source": [
    "#### Ensemble methods\n",
    "_Combine Model Predictions Into Ensemble Predictions_  \n",
    "\n",
    "The three most popular methods for combining the predictions from different models are:  \n",
    "\n",
    "- Bagging. Building multiple models (typically of the same type) from different subsamples of the training dataset.  \n",
    "- Boosting. Building multiple models (typically of the same type) each of which learns to fix the prediction errors of a prior model in the chain.  \n",
    "- Voting. Building multiple models (typically of differing types) and simple statistics (like calculating the mean) are used to combine predictions.  \n",
    "\n",
    "*http://machinelearningmastery.com/ensemble-machine-learning-algorithms-python-scikit-learn/ "
   ]
  },
  {
   "cell_type": "code",
   "execution_count": null,
   "metadata": {
    "collapsed": true
   },
   "outputs": [],
   "source": [
    "def majority_vote_ensemble(name, models_votes, train, outcomes, to_predict):\n",
    "    \"\"\"Creates a submission from a majority voting ensemble, given training/\n",
    "    testing data and a list of models and votes.\n",
    "    \"\"\"\n",
    "    model_results = []\n",
    "    for model, votes in models_votes:\n",
    "        model.fit(np.array(train), outcomes)\n",
    "        probs = model.predict(np.array(to_predict))\n",
    "        probs[probs == 0] = -1\n",
    "        model_results.append((probs, votes))\n",
    "    \n",
    "    # Assemble the ensemble\n",
    "    ensemble = pd.read_csv('data/test.csv')[['PassengerId']].assign(Survived = 0)\n",
    "    for probs, votes in model_results:\n",
    "        for i in range(0, votes):\n",
    "            ensemble = ensemble.assign(Survived = lambda x: x.Survived + probs)\n",
    "    (ensemble.assign(Survived = lambda x: np.where(x.Survived > 0, 1, 0))\n",
    "     .to_csv(name, index = False))\n",
    "    return None\n",
    "    \n",
    "    \n",
    "models_votes = [\n",
    "    (random_forest.best_estimator_, 2),\n",
    "    (decision_tree.best_estimator_, 1)\n",
    "]\n",
    "\n",
    "\n",
    "majority_vote_ensemble('submissions/ensemble_majority_vote.csv', \n",
    "                       models_votes, train, outcomes, to_predict)"
   ]
  }
 ],
 "metadata": {
  "anaconda-cloud": {},
  "kernelspec": {
   "display_name": "Python [Root]",
   "language": "python",
   "name": "Python [Root]"
  },
  "language_info": {
   "codemirror_mode": {
    "name": "ipython",
    "version": 3
   },
   "file_extension": ".py",
   "mimetype": "text/x-python",
   "name": "python",
   "nbconvert_exporter": "python",
   "pygments_lexer": "ipython3",
   "version": "3.5.2"
  }
 },
 "nbformat": 4,
 "nbformat_minor": 0
}
