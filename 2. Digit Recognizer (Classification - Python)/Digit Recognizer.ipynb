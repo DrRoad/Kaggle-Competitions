{
 "cells": [
  {
   "cell_type": "markdown",
   "metadata": {},
   "source": [
    "# Kaggle - Digit Recognizer - Deep learning\n",
    "\n",
    "## Classify handwritten digits using the famous MNIST data\n",
    "\n",
    "Get the data here: https://www.kaggle.com/c/digit-recognizer \n",
    "\n",
    "\n",
    "\n",
    "### 1. Tflearn\n",
    "\n",
    "#### Train from the datasets.mnist\n",
    "Main source: https://github.com/tflearn/tflearn/blob/master/examples/images/convnet_mnist.py"
   ]
  },
  {
   "cell_type": "code",
   "execution_count": 6,
   "metadata": {
    "collapsed": true
   },
   "outputs": [],
   "source": [
    "from __future__ import division, print_function, absolute_import\n",
    "\n",
    "import tflearn\n",
    "from tflearn.layers.core import input_data, dropout, fully_connected\n",
    "from tflearn.layers.conv import conv_2d, max_pool_2d\n",
    "from tflearn.layers.normalization import local_response_normalization\n",
    "from tflearn.layers.estimator import regression"
   ]
  },
  {
   "cell_type": "code",
   "execution_count": 7,
   "metadata": {
    "collapsed": false
   },
   "outputs": [
    {
     "name": "stdout",
     "output_type": "stream",
     "text": [
      "Extracting mnist/train-images-idx3-ubyte.gz\n"
     ]
    },
    {
     "name": "stderr",
     "output_type": "stream",
     "text": [
      "//anaconda/lib/python3.5/gzip.py:274: VisibleDeprecationWarning: converting an array with ndim > 0 to an index will result in an error in the future\n",
      "  return self._buffer.read(size)\n",
      "//anaconda/lib/python3.5/site-packages/tflearn/datasets/mnist.py:52: VisibleDeprecationWarning: converting an array with ndim > 0 to an index will result in an error in the future\n",
      "  data = data.reshape(num_images, rows, cols, 1)\n"
     ]
    },
    {
     "name": "stdout",
     "output_type": "stream",
     "text": [
      "Extracting mnist/train-labels-idx1-ubyte.gz\n",
      "Extracting mnist/t10k-images-idx3-ubyte.gz\n",
      "Extracting mnist/t10k-labels-idx1-ubyte.gz\n"
     ]
    }
   ],
   "source": [
    "## TEST with the mnist data set\n",
    "# Data loading and preprocessing\n",
    "import tflearn.datasets.mnist as mnist\n",
    "\n",
    "X, Y, testX, testY = mnist.load_data(one_hot=True)\n",
    "X = X.reshape([-1, 28, 28, 1])\n",
    "testX = testX.reshape([-1, 28, 28, 1])"
   ]
  },
  {
   "cell_type": "code",
   "execution_count": 3,
   "metadata": {
    "collapsed": false
   },
   "outputs": [
    {
     "name": "stdout",
     "output_type": "stream",
     "text": [
      "Training Step: 8600  | total loss: \u001b[1m\u001b[32m0.42696\u001b[0m\u001b[0m\n",
      "| Adam | epoch: 010 | loss: 0.42696 - acc: 0.9239 | val_loss: 0.11866 - val_acc: 0.9701 -- iter: 55000/55000\n",
      "Training Step: 8600  | total loss: \u001b[1m\u001b[32m0.42696\u001b[0m\u001b[0m\n",
      "| Adam | epoch: 010 | loss: 0.42696 - acc: 0.9239 | val_loss: 0.11866 - val_acc: 0.9701 -- iter: 55000/55000\n",
      "--\n"
     ]
    }
   ],
   "source": [
    "# Building convolutional network\n",
    "network = input_data(shape=[None, 28, 28, 1], name='input')\n",
    "network = conv_2d(network, 32, 3, activation='relu', regularizer=\"L2\")\n",
    "network = max_pool_2d(network, 2)\n",
    "network = local_response_normalization(network)\n",
    "network = conv_2d(network, 64, 3, activation='relu', regularizer=\"L2\")\n",
    "network = max_pool_2d(network, 2)\n",
    "network = local_response_normalization(network)\n",
    "network = fully_connected(network, 128, activation='tanh')\n",
    "network = dropout(network, 0.8)\n",
    "network = fully_connected(network, 256, activation='tanh')\n",
    "network = dropout(network, 0.8)\n",
    "network = fully_connected(network, 10, activation='softmax')\n",
    "network = regression(network, optimizer='adam', learning_rate=0.01,\n",
    "                     loss='categorical_crossentropy', name='target')\n",
    "\n",
    "# Training\n",
    "## 10 Epoch \n",
    "model = tflearn.DNN(network, tensorboard_verbose=0)\n",
    "model.fit({'input': X}, {'target': Y}, n_epoch=10,\n",
    "           validation_set=({'input': testX}, {'target': testY}),\n",
    "           snapshot_step=100, show_metric=True, run_id='convnet_mnist')"
   ]
  },
  {
   "cell_type": "code",
   "execution_count": 5,
   "metadata": {
    "collapsed": true
   },
   "outputs": [],
   "source": [
    "# Save a model (The most important is to save the learned weights, that what the model learn from the trainning)\n",
    "model.save('model.tflearn')"
   ]
  },
  {
   "cell_type": "markdown",
   "metadata": {},
   "source": [
    "## Visualization in TensorBoard\n",
    "\n",
    "While writing a Tensorflow model and adding tensorboard summaries isn't very practical, TFLearn has the ability to self managed a lot of useful logs. Currently, TFLearn supports a verbose level to automatically manage summaries:\n",
    "\n",
    "Type: $ tensorboard --logdir='/tmp/tflearn_logs' in your terminal.\n",
    "\n",
    "Then you can visualize your model evolution here: http://0.0.0.0:6006 \n",
    "\n",
    "Read more: https://www.tensorflow.org/how_tos/summaries_and_tensorboard/\n",
    "\n",
    "![title](img/Graph.png)"
   ]
  },
  {
   "cell_type": "markdown",
   "metadata": {},
   "source": [
    "![title](img/Accuracy.png)\n",
    "![title](img/Loss.png)"
   ]
  },
  {
   "cell_type": "markdown",
   "metadata": {},
   "source": [
    "## Visualization of the learned weights\n",
    "\n",
    "![title](img/Weight.png)"
   ]
  },
  {
   "cell_type": "markdown",
   "metadata": {},
   "source": [
    "Convolutional Neural Network for MNIST dataset classification task.  \n",
    "**References:**  \n",
    "   * Y. LeCun, L. Bottou, Y. Bengio, and P. Haffner. \"Gradient-based learning applied to document recognition.\" Proceedings of the IEEE, 86(11):2278-2324, November 1998.  \n",
    "\n",
    "**Links:**  \n",
    "    [MNIST Dataset] http://yann.lecun.com/exdb/mnist/  \n",
    "\n"
   ]
  },
  {
   "cell_type": "markdown",
   "metadata": {},
   "source": [
    "### 2. Tensorflow\n",
    "\n",
    "Now starting with the csv from Kaggle.\n",
    "\n",
    "Sources: https://www.kaggle.com/mbeierling/digit-recognizer/my-first-nn-using-tensorflow - https://www.kaggle.com/mbeierling "
   ]
  },
  {
   "cell_type": "code",
   "execution_count": 14,
   "metadata": {
    "collapsed": false
   },
   "outputs": [],
   "source": [
    "import numpy as np\n",
    "import pandas as pd\n",
    "\n",
    "import matplotlib.pyplot as plt\n",
    "%matplotlib inline\n",
    "\n",
    "import tensorflow as tf"
   ]
  },
  {
   "cell_type": "code",
   "execution_count": 15,
   "metadata": {
    "collapsed": true
   },
   "outputs": [],
   "source": [
    "data = pd.read_csv(\"train.csv\")"
   ]
  },
  {
   "cell_type": "code",
   "execution_count": 16,
   "metadata": {
    "collapsed": false
   },
   "outputs": [
    {
     "name": "stdout",
     "output_type": "stream",
     "text": [
      "image_size => 784\n",
      "image_width => 28\n",
      "image_height => 28\n"
     ]
    },
    {
     "data": {
      "image/png": "[encoded data removed]",
      "text/plain": [
       "<matplotlib.figure.Figure at 0x11a6a5f98>"
      ]
     },
     "metadata": {},
     "output_type": "display_data"
    }
   ],
   "source": [
    "import matplotlib.cm as cm\n",
    "\n",
    "images = data.iloc[:,1:].values\n",
    "images = images.astype(np.float)\n",
    "\n",
    "# convert from [0:255] => [0.0:1.0]\n",
    "images = np.multiply(images, 1.0 / 255.0)\n",
    "\n",
    "image_size = images.shape[1]\n",
    "print ('image_size => {0}'.format(image_size))\n",
    "\n",
    "# in this case all images are square\n",
    "image_width = image_height = np.ceil(np.sqrt(image_size)).astype(np.uint8)\n",
    "\n",
    "print ('image_width => {0}\\nimage_height => {1}'.format(image_width,image_height))\n",
    "\n",
    "# display image\n",
    "def display(img):\n",
    "    \n",
    "    # (784) => (28,28)\n",
    "    one_image = img.reshape(image_width,image_height)\n",
    "    \n",
    "    plt.axis('off')\n",
    "    plt.imshow(one_image, cmap=cm.binary)\n",
    "\n",
    "# output image     \n",
    "IMAGE_TO_DISPLAY = 10\n",
    "display(images[IMAGE_TO_DISPLAY])"
   ]
  },
  {
   "cell_type": "code",
   "execution_count": 18,
   "metadata": {
    "collapsed": false
   },
   "outputs": [
    {
     "data": {
      "text/plain": [
       "(array([[0, 0, 0, ..., 0, 0, 0],\n",
       "        [0, 0, 0, ..., 0, 0, 0],\n",
       "        [0, 0, 0, ..., 0, 0, 0],\n",
       "        [0, 0, 0, ..., 0, 0, 0]]),\n",
       " array([[ 0.,  1.,  0.,  0.,  0.,  0.,  0.,  0.,  0.,  0.],\n",
       "        [ 1.,  0.,  0.,  0.,  0.,  0.,  0.,  0.,  0.,  0.],\n",
       "        [ 0.,  1.,  0.,  0.,  0.,  0.,  0.,  0.,  0.,  0.],\n",
       "        [ 0.,  0.,  0.,  0.,  1.,  0.,  0.,  0.,  0.,  0.]]))"
      ]
     },
     "execution_count": 18,
     "metadata": {},
     "output_type": "execute_result"
    }
   ],
   "source": [
    "# define a \"next batch\" function that will return X image-label batches\n",
    "def next_batch(c, last_index, df):\n",
    "    '''\n",
    "    c: amount of batches\n",
    "    last_index: the index where to start getting the c datapoints\n",
    "    df: dataframe to get the data from\n",
    "    \n",
    "    returns: tuple, where \n",
    "        index 0 holds c arrays with 784 pixel values\n",
    "        index 1 holds c arrays with 10 label values in one-hot format\n",
    "        \n",
    "    This is built to work like the 'tensorflow.examples.tutorials.mnist.train.next_batch' function\n",
    "    '''\n",
    "    temp_data = df.loc[last_index : last_index + c - 1]\n",
    "    last_index += c\n",
    "    \n",
    "    # Output has to be\n",
    "    # tuple-> ( \n",
    "    #  np.array([<arrays of pixel values per image>]), \n",
    "    #  np.array([<arrays of one-hot target values>]) \n",
    "    # )\n",
    "    \n",
    "    temp_pixel_data = temp_data[temp_data.columns[1:]]\n",
    "    temp_label_data = temp_data[temp_data.columns[:1]]\n",
    "    \n",
    "    one_hot_label_prior = temp_label_data.as_matrix().flatten() # will give us a flat array of labels\n",
    "    \n",
    "    count = len(one_hot_label_prior)\n",
    "    one_hot_label_final = np.zeros((count, 10))\n",
    "    one_hot_label_final[np.arange(count), one_hot_label_prior] = 1\n",
    "    \n",
    "    final_batch_out = (temp_pixel_data.as_matrix(), one_hot_label_final)\n",
    "    \n",
    "    return (last_index, final_batch_out)\n",
    "\n",
    "# Let's do 2 test outputs:\n",
    "\n",
    "curr_i = 0\n",
    "curr_i, curr_batch = next_batch(4, curr_i, data)\n",
    "\n",
    "\n",
    "curr_batch"
   ]
  },
  {
   "cell_type": "code",
   "execution_count": 23,
   "metadata": {
    "collapsed": false
   },
   "outputs": [],
   "source": [
    "curr_i, curr_batch = next_batch(4, curr_i, data)"
   ]
  },
  {
   "cell_type": "code",
   "execution_count": 24,
   "metadata": {
    "collapsed": false
   },
   "outputs": [],
   "source": [
    "# Let's get a sample and render it\n",
    "_, batch = next_batch(1, 0, data) # get first image; we don't care about our index-increment here"
   ]
  },
  {
   "cell_type": "code",
   "execution_count": 25,
   "metadata": {
    "collapsed": false
   },
   "outputs": [],
   "source": [
    "img_sample = batch[0][0] # get first tuple entry and first and only img pixel data array\n"
   ]
  },
  {
   "cell_type": "code",
   "execution_count": 27,
   "metadata": {
    "collapsed": false
   },
   "outputs": [
    {
     "name": "stdout",
     "output_type": "stream",
     "text": [
      "train_data_split: (33503, 785)\n",
      "test_data_split: (8497, 785)\n",
      "train to test: 79.7690%\n"
     ]
    }
   ],
   "source": [
    "# split data into training & testing sets using a random boolean mask\n",
    "msk = np.random.rand(len(data)) < 0.8\n",
    "\n",
    "train_data_split = data[msk]\n",
    "test_data_split = data[~msk]\n",
    "\n",
    "print('train_data_split: {}'.format( train_data_split.shape ))\n",
    "print('test_data_split: {}'.format( test_data_split.shape ))\n",
    "print('train to test: {:1.4f}%'.format( train_data_split.shape[0] * 100. / data.shape[0] ))"
   ]
  },
  {
   "cell_type": "code",
   "execution_count": 28,
   "metadata": {
    "collapsed": true
   },
   "outputs": [],
   "source": [
    "# let's lay out our parameters\n",
    "learning_rate = 0.001 # the lower the higher possibility for accurate training result\n",
    "training_epochs = 50 # how many times we run learning. higher takes longer but yields better accuracy\n",
    "batch_size = 100 # batches of training data\n",
    "\n",
    "n_classes = 10 # there are 10 numbers: 0-9\n",
    "n_samples = train_data_split.shape[0]\n",
    "n_input = len(train_data_split.columns[1:]) # label column is no input\n",
    "\n",
    "# Count of possible values for our hidden layers\n",
    "n_hidden_1 = 256 # possible pixel values (8-bit colors)\n",
    "n_hidden_2 = 256\n",
    "# Now create our variables with randomization\n",
    "weights = {\n",
    "    'w1': tf.Variable( tf.random_normal( [n_input, n_hidden_1] )),\n",
    "    'w2': tf.Variable( tf.random_normal( [n_hidden_1, n_hidden_2] )),\n",
    "    'out': tf.Variable( tf.random_normal( [n_hidden_2, n_classes] ))\n",
    "}\n",
    "\n",
    "biases = {\n",
    "    'b1': tf.Variable( tf.random_normal( [n_hidden_1] )),\n",
    "    'b2': tf.Variable( tf.random_normal( [n_hidden_2] )),\n",
    "    'out': tf.Variable( tf.random_normal( [n_classes] ))\n",
    "}\n",
    "\n",
    "X = tf.placeholder('float', shape=[None, n_input])\n",
    "y = tf.placeholder('float', shape=[None, n_classes])\n",
    "def multi_layer_perceptron(data_input, weights, biases):\n",
    "    \n",
    "    # LAYER 1 with some more explanations:\n",
    "    \n",
    "    # INPUTS * WEIGHTS + BIASES\n",
    "    layer_1 = tf.add(tf.matmul(data_input, weights['w1']), biases['b1'])\n",
    "    \n",
    "    # Activation using RELU, which is just f(x) = max(0, x)\n",
    "    layer_1 = tf.nn.relu(layer_1)\n",
    "    \n",
    "    # Layer 2\n",
    "    layer_2 = tf.add(tf.matmul(layer_1, weights['w2']), biases['b2'])\n",
    "    layer_2 = tf.nn.relu(layer_2)\n",
    "    \n",
    "    # Output Layer\n",
    "    layer_out = tf.matmul(layer_2, weights['out']) + biases['out']\n",
    "    \n",
    "    return layer_out"
   ]
  },
  {
   "cell_type": "code",
   "execution_count": 29,
   "metadata": {
    "collapsed": true
   },
   "outputs": [],
   "source": [
    "# Construct the optimizer, which will essentially tune weights in our perceptron\n",
    "\n",
    "# Instance of our model with variables and placeholders\n",
    "pred = multi_layer_perceptron(X, weights, biases)\n",
    "\n",
    "# cost function, we use a mean over the cross entropy\n",
    "cost = tf.reduce_mean( tf.nn.softmax_cross_entropy_with_logits( pred, y ))\n",
    "\n",
    "# our final optimizer. AdamOptimizer is quite new. More here: https://arxiv.org/pdf/1412.6980v8.pdf\n",
    "optimizer = tf.train.AdamOptimizer( learning_rate=learning_rate ).minimize(cost)"
   ]
  },
  {
   "cell_type": "code",
   "execution_count": 30,
   "metadata": {
    "collapsed": false
   },
   "outputs": [
    {
     "name": "stdout",
     "output_type": "stream",
     "text": [
      "1. epoch with cost of 53659.67409048506\n",
      "2. epoch with cost of 14766.505730381301\n",
      "3. epoch with cost of 9201.76233019473\n",
      "4. epoch with cost of 6446.691996833463\n",
      "5. epoch with cost of 4658.72544296037\n",
      "6. epoch with cost of 3452.2342145094212\n",
      "7. epoch with cost of 2572.4844423151744\n",
      "8. epoch with cost of 1912.907166629052\n",
      "9. epoch with cost of 1420.896105921447\n",
      "10. epoch with cost of 1048.1081826452\n",
      "11. epoch with cost of 804.3646602334372\n",
      "12. epoch with cost of 600.9037010762227\n",
      "13. epoch with cost of 443.77731292244874\n",
      "14. epoch with cost of 332.97188333579874\n",
      "15. epoch with cost of 272.54872485879656\n",
      "16. epoch with cost of 213.7219982805536\n",
      "17. epoch with cost of 180.7914135021949\n",
      "18. epoch with cost of 141.07541294133486\n",
      "19. epoch with cost of 130.6873433511648\n",
      "20. epoch with cost of 133.25711613840133\n",
      "21. epoch with cost of 108.58903994987263\n",
      "22. epoch with cost of 87.13348291374515\n",
      "23. epoch with cost of 94.2343515015805\n",
      "24. epoch with cost of 129.5498562382228\n",
      "25. epoch with cost of 127.39785520959255\n",
      "26. epoch with cost of 83.18069564210833\n",
      "27. epoch with cost of 72.41860692403212\n",
      "28. epoch with cost of 111.43810063440414\n",
      "29. epoch with cost of 73.56871310561448\n",
      "30. epoch with cost of 101.19950364934863\n",
      "31. epoch with cost of 105.54915029241965\n",
      "32. epoch with cost of 71.29746910209084\n",
      "33. epoch with cost of 102.52641318129074\n",
      "34. epoch with cost of 65.05043725611559\n",
      "35. epoch with cost of 44.79509726709394\n",
      "36. epoch with cost of 72.00901058325125\n",
      "37. epoch with cost of 60.89450747077144\n",
      "38. epoch with cost of 80.6955769871598\n",
      "39. epoch with cost of 72.08249637013049\n",
      "40. epoch with cost of 87.83000611866711\n",
      "41. epoch with cost of 43.852854572125324\n",
      "42. epoch with cost of 56.62235895555412\n",
      "43. epoch with cost of 61.279541989226814\n",
      "44. epoch with cost of 64.05444836545345\n",
      "45. epoch with cost of 54.829806599688176\n",
      "46. epoch with cost of 55.90181157197526\n",
      "47. epoch with cost of 58.566326900026695\n",
      "48. epoch with cost of 41.32975011654753\n",
      "49. epoch with cost of 60.93428788256289\n",
      "50. epoch with cost of 53.19605800998744\n",
      "Training Complete!\n"
     ]
    }
   ],
   "source": [
    "# Create an interactive session, which works best for this notebook\n",
    "sess = tf.InteractiveSession()\n",
    "sess.run(tf.initialize_all_variables())\n",
    "\n",
    "for epoch in range(training_epochs):\n",
    "    \n",
    "    # optional: we'll print out the cost at each epoch\n",
    "    avg_cost = 0.\n",
    "    \n",
    "    # number of batches we need to run to iterate over all samples\n",
    "    batch_total = int( n_samples / batch_size )\n",
    "    \n",
    "    batch_idx = 0\n",
    "    \n",
    "    for idx in range(batch_total):\n",
    "        \n",
    "        # get next batch, assigning batch index to new incremented value\n",
    "        batch_idx, batch = next_batch(batch_size, batch_idx, train_data_split)\n",
    "        \n",
    "        # use tuple unpacking to get the data and labels seperately\n",
    "        batch_X, batch_y = batch\n",
    "        \n",
    "        # run our session with our defined optimizer & cost tensors, as well as data & labels\n",
    "        _, local_cost = sess.run( [optimizer, cost], feed_dict={ X: batch_X, y: batch_y })\n",
    "        \n",
    "        avg_cost += (local_cost / batch_total)\n",
    "        \n",
    "    print(\"{}. epoch with cost of {}\".format(epoch + 1, avg_cost))\n",
    "    \n",
    "print(\"Training Complete!\")"
   ]
  },
  {
   "cell_type": "code",
   "execution_count": 31,
   "metadata": {
    "collapsed": false
   },
   "outputs": [
    {
     "data": {
      "text/plain": [
       "0.94951159"
      ]
     },
     "execution_count": 31,
     "metadata": {},
     "output_type": "execute_result"
    }
   ],
   "source": [
    "# transform dataframe to needed array representation again\n",
    "# TODO should be combined with the same process done in the next_batch function\n",
    "\n",
    "test_data = test_data_split[test_data_split.columns[1:]]\n",
    "test_label = test_data_split[test_data_split.columns[:1]]\n",
    "\n",
    "one_hot_test_label_prior = test_label.as_matrix().flatten() # will give us a flat array of labels\n",
    "\n",
    "test_count = len(one_hot_test_label_prior)\n",
    "one_hot_test_label_final = np.zeros((test_count, 10))\n",
    "one_hot_test_label_final[np.arange(test_count), one_hot_test_label_prior] = 1\n",
    "\n",
    "correct_preds = tf.equal( tf.argmax(pred, 1), tf.argmax(y, 1) )\n",
    "\n",
    "# will give us boolean type, we need numerical to calculate accuracy using mean\n",
    "correct_preds = tf.cast(correct_preds, 'float')\n",
    "\n",
    "# create our accuracy tensor\n",
    "accuracy = tf.reduce_mean(correct_preds)\n",
    "\n",
    "# evaluate accuracy using our test split data\n",
    "accuracy.eval( feed_dict={ X: test_data, y: one_hot_test_label_final } )"
   ]
  },
  {
   "cell_type": "markdown",
   "metadata": {},
   "source": [
    "# Make predictions on the test dataset\n"
   ]
  },
  {
   "cell_type": "code",
   "execution_count": 32,
   "metadata": {
    "collapsed": true
   },
   "outputs": [],
   "source": [
    "# First we need our test data\n",
    "test_data = pd.read_csv(\"test.csv\")"
   ]
  },
  {
   "cell_type": "code",
   "execution_count": 33,
   "metadata": {
    "collapsed": false
   },
   "outputs": [
    {
     "data": {
      "text/plain": [
       "array([2, 0, 9, ..., 3, 9, 2])"
      ]
     },
     "execution_count": 33,
     "metadata": {},
     "output_type": "execute_result"
    }
   ],
   "source": [
    "# get the label-index with highest probability (in our case index = predicted number)\n",
    "maximum_probability = tf.argmax(y,1)\n",
    "\n",
    "# actually predict our labels using the test dataset\n",
    "predicted_lables = pred.eval( feed_dict={ X: test_data.as_matrix() } )\n",
    "\n",
    "# then transform those predictions into our final array of predicted labels\n",
    "predicted_labels = maximum_probability.eval( feed_dict={ y: predicted_lables })\n",
    "\n",
    "# our final predicted labels array looks good\n",
    "predicted_labels"
   ]
  },
  {
   "cell_type": "code",
   "execution_count": 34,
   "metadata": {
    "collapsed": true
   },
   "outputs": [],
   "source": [
    "# save results\n",
    "# we need to have an additional incremental id column for the submission file\n",
    "result_array = np.c_[ range(1,len(test_data)+1), predicted_labels]\n",
    "\n",
    "np.savetxt('submission.csv', result_array, delimiter=',', \n",
    "           header='ImageId,Label', comments = '', fmt='%d')"
   ]
  }
 ],
 "metadata": {
  "anaconda-cloud": {},
  "kernelspec": {
   "display_name": "Python [Root]",
   "language": "python",
   "name": "Python [Root]"
  },
  "language_info": {
   "codemirror_mode": {
    "name": "ipython",
    "version": 3
   },
   "file_extension": ".py",
   "mimetype": "text/x-python",
   "name": "python",
   "nbconvert_exporter": "python",
   "pygments_lexer": "ipython3",
   "version": "3.5.2"
  }
 },
 "nbformat": 4,
 "nbformat_minor": 0
}
