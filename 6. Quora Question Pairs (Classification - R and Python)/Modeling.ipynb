{
 "cells": [
  {
   "cell_type": "markdown",
   "metadata": {},
   "source": [
    "# Modeling\n",
    "\n",
    "Sources: \n",
    "\n",
    "- https://www.kaggle.com/anokas/quora-question-pairs/data-analysis-xgboost-starter-0-35460-lb\n",
    "- https://www.kaggle.com/puneetsl/quora-question-pairs/unusual-meaning-map "
   ]
  },
  {
   "cell_type": "code",
   "execution_count": 1,
   "metadata": {
    "collapsed": false
   },
   "outputs": [
    {
     "data": {
      "text/html": [
       "<script>requirejs.config({paths: { 'plotly': ['https://cdn.plot.ly/plotly-latest.min']},});if(!window.Plotly) {{require(['plotly'],function(plotly) {window.Plotly=plotly;});}}</script>"
      ],
      "text/plain": [
       "<IPython.core.display.HTML object>"
      ]
     },
     "metadata": {},
     "output_type": "display_data"
    }
   ],
   "source": [
    "import numpy as np\n",
    "import pandas as pd\n",
    "from IPython.display import display\n",
    "import matplotlib.pyplot as plt\n",
    "import seaborn as sns\n",
    "color = sns.color_palette()\n",
    "%matplotlib inline\n",
    "from subprocess import check_output\n",
    "import plotly.offline as py\n",
    "py.init_notebook_mode(connected=True)\n",
    "import plotly.graph_objs as go\n",
    "import plotly.tools as tls\n",
    "\n",
    "# Machine learning\n",
    "from sklearn import ensemble\n",
    "from sklearn.model_selection import KFold\n",
    "from sklearn.metrics import log_loss\n",
    "from sklearn.linear_model import LogisticRegression\n",
    "from sklearn.metrics import precision_recall_curve, auc, roc_curve\n",
    "from sklearn.model_selection import GridSearchCV, train_test_split"
   ]
  },
  {
   "cell_type": "code",
   "execution_count": 2,
   "metadata": {
    "collapsed": false
   },
   "outputs": [
    {
     "data": {
      "text/html": [
       "<div>\n",
       "<table border=\"1\" class=\"dataframe\">\n",
       "  <thead>\n",
       "    <tr style=\"text-align: right;\">\n",
       "      <th></th>\n",
       "      <th>is_duplicate</th>\n",
       "      <th>q1len</th>\n",
       "      <th>q2len</th>\n",
       "      <th>q1_n_words</th>\n",
       "      <th>q2_n_words</th>\n",
       "      <th>word_share</th>\n",
       "      <th>unigrams_common_count</th>\n",
       "      <th>unigrams_common_ratio</th>\n",
       "      <th>bigrams_common_count</th>\n",
       "      <th>bigrams_common_ratio</th>\n",
       "      <th>train_word_match</th>\n",
       "      <th>tfidf_train_word_match</th>\n",
       "      <th>sentiment_analysis_sum</th>\n",
       "    </tr>\n",
       "  </thead>\n",
       "  <tbody>\n",
       "    <tr>\n",
       "      <th>0</th>\n",
       "      <td>0</td>\n",
       "      <td>0.011247</td>\n",
       "      <td>-0.002436</td>\n",
       "      <td>0.024127</td>\n",
       "      <td>0.003116</td>\n",
       "      <td>0.478261</td>\n",
       "      <td>0.094213</td>\n",
       "      <td>0.833333</td>\n",
       "      <td>0.152692</td>\n",
       "      <td>0.833333</td>\n",
       "      <td>0.909091</td>\n",
       "      <td>0.971435</td>\n",
       "      <td>0.164528</td>\n",
       "    </tr>\n",
       "    <tr>\n",
       "      <th>1</th>\n",
       "      <td>0</td>\n",
       "      <td>-0.013628</td>\n",
       "      <td>0.024757</td>\n",
       "      <td>-0.023873</td>\n",
       "      <td>0.007164</td>\n",
       "      <td>0.250000</td>\n",
       "      <td>0.094213</td>\n",
       "      <td>0.416667</td>\n",
       "      <td>0.114230</td>\n",
       "      <td>0.363636</td>\n",
       "      <td>0.461538</td>\n",
       "      <td>0.558679</td>\n",
       "      <td>-0.135472</td>\n",
       "    </tr>\n",
       "    <tr>\n",
       "      <th>2</th>\n",
       "      <td>0</td>\n",
       "      <td>0.022856</td>\n",
       "      <td>-0.000682</td>\n",
       "      <td>0.024127</td>\n",
       "      <td>-0.004982</td>\n",
       "      <td>0.166667</td>\n",
       "      <td>-0.016898</td>\n",
       "      <td>0.222222</td>\n",
       "      <td>-0.039616</td>\n",
       "      <td>0.000000</td>\n",
       "      <td>0.363636</td>\n",
       "      <td>0.345326</td>\n",
       "      <td>0.064528</td>\n",
       "    </tr>\n",
       "    <tr>\n",
       "      <th>3</th>\n",
       "      <td>0</td>\n",
       "      <td>-0.016945</td>\n",
       "      <td>0.003704</td>\n",
       "      <td>0.000127</td>\n",
       "      <td>-0.009030</td>\n",
       "      <td>0.000000</td>\n",
       "      <td>-0.090972</td>\n",
       "      <td>0.000000</td>\n",
       "      <td>-0.039616</td>\n",
       "      <td>0.000000</td>\n",
       "      <td>0.000000</td>\n",
       "      <td>0.000000</td>\n",
       "      <td>-0.335472</td>\n",
       "    </tr>\n",
       "    <tr>\n",
       "      <th>4</th>\n",
       "      <td>0</td>\n",
       "      <td>0.024514</td>\n",
       "      <td>-0.018226</td>\n",
       "      <td>0.016127</td>\n",
       "      <td>-0.017127</td>\n",
       "      <td>0.200000</td>\n",
       "      <td>-0.016898</td>\n",
       "      <td>0.153846</td>\n",
       "      <td>-0.039616</td>\n",
       "      <td>0.000000</td>\n",
       "      <td>0.266667</td>\n",
       "      <td>0.262525</td>\n",
       "      <td>0.164528</td>\n",
       "    </tr>\n",
       "  </tbody>\n",
       "</table>\n",
       "</div>"
      ],
      "text/plain": [
       "   is_duplicate     q1len     q2len  q1_n_words  q2_n_words  word_share  \\\n",
       "0             0  0.011247 -0.002436    0.024127    0.003116    0.478261   \n",
       "1             0 -0.013628  0.024757   -0.023873    0.007164    0.250000   \n",
       "2             0  0.022856 -0.000682    0.024127   -0.004982    0.166667   \n",
       "3             0 -0.016945  0.003704    0.000127   -0.009030    0.000000   \n",
       "4             0  0.024514 -0.018226    0.016127   -0.017127    0.200000   \n",
       "\n",
       "   unigrams_common_count  unigrams_common_ratio  bigrams_common_count  \\\n",
       "0               0.094213               0.833333              0.152692   \n",
       "1               0.094213               0.416667              0.114230   \n",
       "2              -0.016898               0.222222             -0.039616   \n",
       "3              -0.090972               0.000000             -0.039616   \n",
       "4              -0.016898               0.153846             -0.039616   \n",
       "\n",
       "   bigrams_common_ratio  train_word_match  tfidf_train_word_match  \\\n",
       "0              0.833333          0.909091                0.971435   \n",
       "1              0.363636          0.461538                0.558679   \n",
       "2              0.000000          0.363636                0.345326   \n",
       "3              0.000000          0.000000                0.000000   \n",
       "4              0.000000          0.266667                0.262525   \n",
       "\n",
       "   sentiment_analysis_sum  \n",
       "0                0.164528  \n",
       "1               -0.135472  \n",
       "2                0.064528  \n",
       "3               -0.335472  \n",
       "4                0.164528  "
      ]
     },
     "execution_count": 2,
     "metadata": {},
     "output_type": "execute_result"
    }
   ],
   "source": [
    "train_ready = pd.read_csv(\"Data/modeling/modeling_train_ready.csv\").drop('Unnamed: 0',1)\n",
    "train_ready.head()"
   ]
  },
  {
   "cell_type": "code",
   "execution_count": 3,
   "metadata": {
    "collapsed": false
   },
   "outputs": [],
   "source": [
    "#corr = train_ready[0:200]\n",
    "corr = train_ready[0:80000].iloc[:, 1:].corr()"
   ]
  },
  {
   "cell_type": "code",
   "execution_count": 4,
   "metadata": {
    "collapsed": false
   },
   "outputs": [
    {
     "data": {
      "text/plain": [
       "<matplotlib.axes._subplots.AxesSubplot at 0x1047e7908>"
      ]
     },
     "execution_count": 4,
     "metadata": {},
     "output_type": "execute_result"
    },
    {
     "data": {
      "image/png": "[encoded data removed]",
      "text/plain": [
       "<matplotlib.figure.Figure at 0x1047e7080>"
      ]
     },
     "metadata": {},
     "output_type": "display_data"
    }
   ],
   "source": [
    "plt.figure(figsize=(10, 10))\n",
    "sns.heatmap(corr, vmax=1, square=True)"
   ]
  },
  {
   "cell_type": "code",
   "execution_count": 5,
   "metadata": {
    "collapsed": false
   },
   "outputs": [
    {
     "data": {
      "text/html": [
       "<div>\n",
       "<table border=\"1\" class=\"dataframe\">\n",
       "  <thead>\n",
       "    <tr style=\"text-align: right;\">\n",
       "      <th></th>\n",
       "      <th>test_id</th>\n",
       "      <th>q1len</th>\n",
       "      <th>q2len</th>\n",
       "      <th>q1_n_words</th>\n",
       "      <th>q2_n_words</th>\n",
       "      <th>word_share</th>\n",
       "      <th>unigrams_common_count</th>\n",
       "      <th>unigrams_common_ratio</th>\n",
       "      <th>bigrams_common_count</th>\n",
       "      <th>bigrams_common_ratio</th>\n",
       "      <th>train_word_match</th>\n",
       "      <th>tfidf_train_word_match</th>\n",
       "      <th>sentiment_analysis_sum</th>\n",
       "    </tr>\n",
       "  </thead>\n",
       "  <tbody>\n",
       "    <tr>\n",
       "      <th>0</th>\n",
       "      <td>0</td>\n",
       "      <td>-0.002418</td>\n",
       "      <td>0.007276</td>\n",
       "      <td>-0.000200</td>\n",
       "      <td>0.011753</td>\n",
       "      <td>0.130435</td>\n",
       "      <td>0.037169</td>\n",
       "      <td>0.272727</td>\n",
       "      <td>0.030904</td>\n",
       "      <td>0.166667</td>\n",
       "      <td>0.428571</td>\n",
       "      <td>0.430700</td>\n",
       "      <td>0.113307</td>\n",
       "    </tr>\n",
       "    <tr>\n",
       "      <th>1</th>\n",
       "      <td>1</td>\n",
       "      <td>0.004575</td>\n",
       "      <td>-0.014558</td>\n",
       "      <td>0.011897</td>\n",
       "      <td>-0.016473</td>\n",
       "      <td>0.238095</td>\n",
       "      <td>0.069427</td>\n",
       "      <td>0.500000</td>\n",
       "      <td>0.009165</td>\n",
       "      <td>0.111111</td>\n",
       "      <td>0.666667</td>\n",
       "      <td>0.663313</td>\n",
       "      <td>0.213307</td>\n",
       "    </tr>\n",
       "    <tr>\n",
       "      <th>2</th>\n",
       "      <td>2</td>\n",
       "      <td>0.000205</td>\n",
       "      <td>-0.026785</td>\n",
       "      <td>0.011897</td>\n",
       "      <td>-0.020505</td>\n",
       "      <td>0.277778</td>\n",
       "      <td>0.037169</td>\n",
       "      <td>0.500000</td>\n",
       "      <td>0.030904</td>\n",
       "      <td>0.400000</td>\n",
       "      <td>0.666667</td>\n",
       "      <td>0.807120</td>\n",
       "      <td>0.213307</td>\n",
       "    </tr>\n",
       "    <tr>\n",
       "      <th>3</th>\n",
       "      <td>3</td>\n",
       "      <td>-0.028641</td>\n",
       "      <td>-0.037265</td>\n",
       "      <td>-0.028426</td>\n",
       "      <td>-0.032602</td>\n",
       "      <td>0.000000</td>\n",
       "      <td>-0.059605</td>\n",
       "      <td>0.000000</td>\n",
       "      <td>-0.012574</td>\n",
       "      <td>0.000000</td>\n",
       "      <td>0.000000</td>\n",
       "      <td>0.000000</td>\n",
       "      <td>-0.086693</td>\n",
       "    </tr>\n",
       "    <tr>\n",
       "      <th>4</th>\n",
       "      <td>4</td>\n",
       "      <td>-0.026019</td>\n",
       "      <td>-0.025912</td>\n",
       "      <td>-0.028426</td>\n",
       "      <td>-0.020505</td>\n",
       "      <td>0.300000</td>\n",
       "      <td>0.004911</td>\n",
       "      <td>0.666667</td>\n",
       "      <td>0.009165</td>\n",
       "      <td>0.500000</td>\n",
       "      <td>0.800000</td>\n",
       "      <td>1.000000</td>\n",
       "      <td>0.213307</td>\n",
       "    </tr>\n",
       "  </tbody>\n",
       "</table>\n",
       "</div>"
      ],
      "text/plain": [
       "   test_id     q1len     q2len  q1_n_words  q2_n_words  word_share  \\\n",
       "0        0 -0.002418  0.007276   -0.000200    0.011753    0.130435   \n",
       "1        1  0.004575 -0.014558    0.011897   -0.016473    0.238095   \n",
       "2        2  0.000205 -0.026785    0.011897   -0.020505    0.277778   \n",
       "3        3 -0.028641 -0.037265   -0.028426   -0.032602    0.000000   \n",
       "4        4 -0.026019 -0.025912   -0.028426   -0.020505    0.300000   \n",
       "\n",
       "   unigrams_common_count  unigrams_common_ratio  bigrams_common_count  \\\n",
       "0               0.037169               0.272727              0.030904   \n",
       "1               0.069427               0.500000              0.009165   \n",
       "2               0.037169               0.500000              0.030904   \n",
       "3              -0.059605               0.000000             -0.012574   \n",
       "4               0.004911               0.666667              0.009165   \n",
       "\n",
       "   bigrams_common_ratio  train_word_match  tfidf_train_word_match  \\\n",
       "0              0.166667          0.428571                0.430700   \n",
       "1              0.111111          0.666667                0.663313   \n",
       "2              0.400000          0.666667                0.807120   \n",
       "3              0.000000          0.000000                0.000000   \n",
       "4              0.500000          0.800000                1.000000   \n",
       "\n",
       "   sentiment_analysis_sum  \n",
       "0                0.113307  \n",
       "1                0.213307  \n",
       "2                0.213307  \n",
       "3               -0.086693  \n",
       "4                0.213307  "
      ]
     },
     "execution_count": 5,
     "metadata": {},
     "output_type": "execute_result"
    }
   ],
   "source": [
    "test_ready = pd.read_csv(\"Data/modeling/modeling_test_ready.csv\").drop('Unnamed: 0',1)\n",
    "test_ready.head()"
   ]
  },
  {
   "cell_type": "markdown",
   "metadata": {},
   "source": [
    "### Data preparation"
   ]
  },
  {
   "cell_type": "code",
   "execution_count": 6,
   "metadata": {
    "collapsed": true
   },
   "outputs": [],
   "source": [
    "x_train = train_ready.drop(['is_duplicate'], 1)\n",
    "x_test = test_ready.drop(['test_id'], 1)\n",
    "\n",
    "y_train = train_ready['is_duplicate'].values"
   ]
  },
  {
   "cell_type": "code",
   "execution_count": 7,
   "metadata": {
    "collapsed": false
   },
   "outputs": [
    {
     "name": "stdout",
     "output_type": "stream",
     "text": [
      "0.19124366100096607\n"
     ]
    }
   ],
   "source": [
    "pos_train = x_train[y_train == 1]\n",
    "neg_train = x_train[y_train == 0]\n",
    "\n",
    "# Now we oversample the negative class\n",
    "# There is likely a much more elegant way to do this...\n",
    "p = 0.165\n",
    "scale = ((len(pos_train) / (len(pos_train) + len(neg_train))) / p) - 1\n",
    "while scale > 1:\n",
    "    neg_train = pd.concat([neg_train, neg_train])\n",
    "    scale -=1\n",
    "neg_train = pd.concat([neg_train, neg_train[:int(scale * len(neg_train))]])\n",
    "print(len(pos_train) / (len(pos_train) + len(neg_train)))\n",
    "\n",
    "x_train = pd.concat([pos_train, neg_train])\n",
    "y_train = (np.zeros(len(pos_train)) + 1).tolist() + np.zeros(len(neg_train)).tolist()\n",
    "del pos_train, neg_train"
   ]
  },
  {
   "cell_type": "code",
   "execution_count": 8,
   "metadata": {
    "collapsed": false
   },
   "outputs": [
    {
     "name": "stderr",
     "output_type": "stream",
     "text": [
      "//anaconda/lib/python3.5/site-packages/sklearn/cross_validation.py:44: DeprecationWarning:\n",
      "\n",
      "This module was deprecated in version 0.18 in favor of the model_selection module into which all the refactored classes and functions are moved. Also note that the interface of the new CV iterators are different from that of this module. This module will be removed in 0.20.\n",
      "\n"
     ]
    }
   ],
   "source": [
    "# Finally, we split some of the data off for validation\n",
    "from sklearn.cross_validation import train_test_split\n",
    "\n",
    "x_train, x_valid, y_train, y_valid = train_test_split(x_train, y_train, test_size=0.2, random_state=4242)"
   ]
  },
  {
   "cell_type": "markdown",
   "metadata": {},
   "source": [
    "## XGboost"
   ]
  },
  {
   "cell_type": "code",
   "execution_count": 9,
   "metadata": {
    "collapsed": true
   },
   "outputs": [],
   "source": [
    "import xgboost as xgb\n",
    "\n",
    "# Set our parameters for xgboost\n",
    "params = {}\n",
    "params['objective'] = 'binary:logistic'\n",
    "params['eval_metric'] = 'logloss'\n",
    "params['eta'] = 0.02\n",
    "params['max_depth'] = 4"
   ]
  },
  {
   "cell_type": "code",
   "execution_count": 12,
   "metadata": {
    "collapsed": false
   },
   "outputs": [
    {
     "name": "stdout",
     "output_type": "stream",
     "text": [
      "[0]\ttrain-logloss:0.683633\tvalid-logloss:0.683683\n",
      "Multiple eval metrics have been passed: 'valid-logloss' will be used for early stopping.\n",
      "\n",
      "Will train until valid-logloss hasn't improved in 50 rounds.\n",
      "[10]\ttrain-logloss:0.606071\tvalid-logloss:0.606584\n",
      "[20]\ttrain-logloss:0.551533\tvalid-logloss:0.552434\n",
      "[30]\ttrain-logloss:0.511889\tvalid-logloss:0.513116\n",
      "[40]\ttrain-logloss:0.482418\tvalid-logloss:0.483914\n",
      "[50]\ttrain-logloss:0.460204\tvalid-logloss:0.461911\n",
      "[60]\ttrain-logloss:0.443214\tvalid-logloss:0.445102\n",
      "[70]\ttrain-logloss:0.430072\tvalid-logloss:0.43211\n",
      "[80]\ttrain-logloss:0.419815\tvalid-logloss:0.421975\n",
      "[90]\ttrain-logloss:0.411706\tvalid-logloss:0.413978\n",
      "[100]\ttrain-logloss:0.40521\tvalid-logloss:0.40758\n",
      "[110]\ttrain-logloss:0.400123\tvalid-logloss:0.40257\n",
      "[120]\ttrain-logloss:0.395956\tvalid-logloss:0.398475\n",
      "[130]\ttrain-logloss:0.392565\tvalid-logloss:0.395147\n",
      "[140]\ttrain-logloss:0.389982\tvalid-logloss:0.392602\n",
      "[150]\ttrain-logloss:0.387889\tvalid-logloss:0.390555\n",
      "[160]\ttrain-logloss:0.386155\tvalid-logloss:0.388856\n",
      "[170]\ttrain-logloss:0.384681\tvalid-logloss:0.387405\n",
      "[180]\ttrain-logloss:0.383478\tvalid-logloss:0.386229\n",
      "[190]\ttrain-logloss:0.382517\tvalid-logloss:0.385281\n",
      "[200]\ttrain-logloss:0.38173\tvalid-logloss:0.38452\n",
      "[210]\ttrain-logloss:0.380978\tvalid-logloss:0.383781\n",
      "[220]\ttrain-logloss:0.38033\tvalid-logloss:0.383147\n",
      "[230]\ttrain-logloss:0.379809\tvalid-logloss:0.382642\n",
      "[240]\ttrain-logloss:0.379299\tvalid-logloss:0.382147\n",
      "[250]\ttrain-logloss:0.378786\tvalid-logloss:0.381649\n",
      "[260]\ttrain-logloss:0.378243\tvalid-logloss:0.381123\n",
      "[270]\ttrain-logloss:0.377816\tvalid-logloss:0.38071\n",
      "[280]\ttrain-logloss:0.377431\tvalid-logloss:0.380331\n",
      "[290]\ttrain-logloss:0.377084\tvalid-logloss:0.379988\n",
      "[300]\ttrain-logloss:0.376791\tvalid-logloss:0.379697\n",
      "[310]\ttrain-logloss:0.376461\tvalid-logloss:0.37938\n",
      "[320]\ttrain-logloss:0.376095\tvalid-logloss:0.37903\n",
      "[330]\ttrain-logloss:0.375782\tvalid-logloss:0.378732\n",
      "[340]\ttrain-logloss:0.375491\tvalid-logloss:0.378447\n",
      "[350]\ttrain-logloss:0.375139\tvalid-logloss:0.378102\n",
      "[360]\ttrain-logloss:0.374842\tvalid-logloss:0.377825\n",
      "[370]\ttrain-logloss:0.374544\tvalid-logloss:0.377542\n",
      "[380]\ttrain-logloss:0.374265\tvalid-logloss:0.377274\n",
      "[390]\ttrain-logloss:0.374001\tvalid-logloss:0.377023\n",
      "[400]\ttrain-logloss:0.373727\tvalid-logloss:0.376758\n",
      "[410]\ttrain-logloss:0.373486\tvalid-logloss:0.376534\n",
      "[420]\ttrain-logloss:0.373234\tvalid-logloss:0.376296\n",
      "[430]\ttrain-logloss:0.372948\tvalid-logloss:0.376032\n",
      "[440]\ttrain-logloss:0.372739\tvalid-logloss:0.375835\n",
      "[450]\ttrain-logloss:0.372522\tvalid-logloss:0.37563\n",
      "[460]\ttrain-logloss:0.372262\tvalid-logloss:0.375382\n",
      "[470]\ttrain-logloss:0.372071\tvalid-logloss:0.375203\n",
      "[480]\ttrain-logloss:0.371838\tvalid-logloss:0.37498\n",
      "[490]\ttrain-logloss:0.371644\tvalid-logloss:0.374799\n",
      "[500]\ttrain-logloss:0.371379\tvalid-logloss:0.374541\n",
      "[510]\ttrain-logloss:0.371218\tvalid-logloss:0.374396\n",
      "[520]\ttrain-logloss:0.371004\tvalid-logloss:0.374191\n",
      "[530]\ttrain-logloss:0.370786\tvalid-logloss:0.373971\n",
      "[540]\ttrain-logloss:0.3706\tvalid-logloss:0.373789\n",
      "[550]\ttrain-logloss:0.370416\tvalid-logloss:0.373618\n",
      "[560]\ttrain-logloss:0.370246\tvalid-logloss:0.373461\n",
      "[570]\ttrain-logloss:0.370051\tvalid-logloss:0.373278\n",
      "[580]\ttrain-logloss:0.369885\tvalid-logloss:0.373123\n",
      "[590]\ttrain-logloss:0.369741\tvalid-logloss:0.372999\n",
      "[600]\ttrain-logloss:0.369564\tvalid-logloss:0.372835\n",
      "[610]\ttrain-logloss:0.369431\tvalid-logloss:0.37272\n",
      "[620]\ttrain-logloss:0.369298\tvalid-logloss:0.372608\n",
      "[630]\ttrain-logloss:0.369125\tvalid-logloss:0.372447\n",
      "[640]\ttrain-logloss:0.36899\tvalid-logloss:0.372326\n",
      "[650]\ttrain-logloss:0.368856\tvalid-logloss:0.372203\n",
      "[660]\ttrain-logloss:0.368739\tvalid-logloss:0.372102\n",
      "[670]\ttrain-logloss:0.368584\tvalid-logloss:0.371966\n",
      "[680]\ttrain-logloss:0.36841\tvalid-logloss:0.371807\n",
      "[690]\ttrain-logloss:0.368238\tvalid-logloss:0.371652\n",
      "[700]\ttrain-logloss:0.368072\tvalid-logloss:0.371499\n",
      "[710]\ttrain-logloss:0.367929\tvalid-logloss:0.371372\n",
      "[720]\ttrain-logloss:0.367798\tvalid-logloss:0.371253\n",
      "[730]\ttrain-logloss:0.367669\tvalid-logloss:0.37113\n",
      "[740]\ttrain-logloss:0.367517\tvalid-logloss:0.370987\n",
      "[750]\ttrain-logloss:0.367375\tvalid-logloss:0.370863\n",
      "[760]\ttrain-logloss:0.367209\tvalid-logloss:0.370711\n",
      "[770]\ttrain-logloss:0.367057\tvalid-logloss:0.370577\n",
      "[780]\ttrain-logloss:0.366949\tvalid-logloss:0.370485\n",
      "[790]\ttrain-logloss:0.366849\tvalid-logloss:0.370403\n",
      "[800]\ttrain-logloss:0.366728\tvalid-logloss:0.370299\n",
      "[810]\ttrain-logloss:0.366626\tvalid-logloss:0.370219\n",
      "[820]\ttrain-logloss:0.366517\tvalid-logloss:0.370123\n",
      "[830]\ttrain-logloss:0.366421\tvalid-logloss:0.37004\n",
      "[840]\ttrain-logloss:0.36633\tvalid-logloss:0.36996\n",
      "[850]\ttrain-logloss:0.366231\tvalid-logloss:0.369878\n",
      "[860]\ttrain-logloss:0.366094\tvalid-logloss:0.369754\n",
      "[870]\ttrain-logloss:0.365987\tvalid-logloss:0.369672\n",
      "[880]\ttrain-logloss:0.365898\tvalid-logloss:0.369599\n",
      "[890]\ttrain-logloss:0.365799\tvalid-logloss:0.369518\n",
      "[900]\ttrain-logloss:0.365703\tvalid-logloss:0.369439\n",
      "[910]\ttrain-logloss:0.365594\tvalid-logloss:0.36935\n",
      "[920]\ttrain-logloss:0.365508\tvalid-logloss:0.369279\n",
      "[930]\ttrain-logloss:0.365407\tvalid-logloss:0.369196\n",
      "[940]\ttrain-logloss:0.365305\tvalid-logloss:0.369106\n",
      "[950]\ttrain-logloss:0.365206\tvalid-logloss:0.369025\n",
      "[960]\ttrain-logloss:0.365105\tvalid-logloss:0.368941\n",
      "[970]\ttrain-logloss:0.365022\tvalid-logloss:0.368872\n",
      "[980]\ttrain-logloss:0.364918\tvalid-logloss:0.368786\n",
      "[990]\ttrain-logloss:0.364847\tvalid-logloss:0.368729\n",
      "[999]\ttrain-logloss:0.364771\tvalid-logloss:0.36867\n"
     ]
    }
   ],
   "source": [
    "d_train = xgb.DMatrix(x_train, label=y_train)\n",
    "d_valid = xgb.DMatrix(x_valid, label=y_valid)\n",
    "\n",
    "watchlist = [(d_train, 'train'), (d_valid, 'valid')]\n",
    "\n",
    "bst = xgb.train(params, d_train, 1000, watchlist, early_stopping_rounds=50, verbose_eval=10)"
   ]
  },
  {
   "cell_type": "code",
   "execution_count": 13,
   "metadata": {
    "collapsed": true
   },
   "outputs": [],
   "source": [
    "d_test = xgb.DMatrix(x_test)\n",
    "p_test = bst.predict(d_test)\n",
    "\n",
    "sub = pd.DataFrame()\n",
    "sub['test_id'] = test_ready['test_id']\n",
    "sub['is_duplicate'] = p_test\n",
    "sub.to_csv('xgb.csv', index=False)"
   ]
  }
 ],
 "metadata": {
  "anaconda-cloud": {},
  "kernelspec": {
   "display_name": "Python [Root]",
   "language": "python",
   "name": "Python [Root]"
  },
  "language_info": {
   "codemirror_mode": {
    "name": "ipython",
    "version": 3
   },
   "file_extension": ".py",
   "mimetype": "text/x-python",
   "name": "python",
   "nbconvert_exporter": "python",
   "pygments_lexer": "ipython3",
   "version": "3.5.2"
  }
 },
 "nbformat": 4,
 "nbformat_minor": 0
}
